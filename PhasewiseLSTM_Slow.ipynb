{
  "nbformat": 4,
  "nbformat_minor": 0,
  "metadata": {
    "colab": {
      "name": "PhasewiseLSTM_Slow.ipynb",
      "provenance": []
    },
    "kernelspec": {
      "display_name": "Python 3",
      "name": "python3"
    }
  },
  "cells": [
    {
      "cell_type": "code",
      "metadata": {
        "id": "Mart7B1UHlXM"
      },
      "source": [
        "import numpy as np\n",
        "import tensorflow\n",
        "from sklearn.metrics import accuracy_score\n",
        "#from tensorflow import set_random_seed\n",
        "from keras.models import load_model\n",
        "from keras.layers import Input, Embedding, LSTM, Dense,Concatenate,Lambda\n",
        "from keras.models import Model\n",
        "import keras\n",
        "from keras import backend as K\n",
        "from keras.layers import Dense, Activation, Flatten,TimeDistributed,Dropout,Bidirectional\n",
        "from keras.layers import RepeatVector,merge,Permute,GlobalMaxPool1D\n",
        "#from attention_utils import get_activations, get_data_recurrent\n",
        "from keras.callbacks import EarlyStopping\n",
        "import _pickle as cPickle\n",
        "np.random.seed(123)\n",
        "tensorflow.random.set_seed(2)\n",
        "from sklearn.preprocessing import MinMaxScaler\n",
        "import pandas as pd\n",
        "import requests"
      ],
      "execution_count": null,
      "outputs": []
    },
    {
      "cell_type": "code",
      "metadata": {
        "colab": {
          "base_uri": "https://localhost:8080/",
          "height": 204
        },
        "id": "UWZIj08JIKvn",
        "outputId": "8c55a32c-63d7-4f76-cc07-69729d201db6"
      },
      "source": [
        "df_newfile=pd.read_csv(\"/content/new_file (2).csv\")\n",
        "df_newfile.head()"
      ],
      "execution_count": null,
      "outputs": [
        {
          "output_type": "execute_result",
          "data": {
            "text/html": [
              "<div>\n",
              "<style scoped>\n",
              "    .dataframe tbody tr th:only-of-type {\n",
              "        vertical-align: middle;\n",
              "    }\n",
              "\n",
              "    .dataframe tbody tr th {\n",
              "        vertical-align: top;\n",
              "    }\n",
              "\n",
              "    .dataframe thead th {\n",
              "        text-align: right;\n",
              "    }\n",
              "</style>\n",
              "<table border=\"1\" class=\"dataframe\">\n",
              "  <thead>\n",
              "    <tr style=\"text-align: right;\">\n",
              "      <th></th>\n",
              "      <th>Country</th>\n",
              "      <th>Slow</th>\n",
              "      <th>Moderate</th>\n",
              "      <th>Fast</th>\n",
              "    </tr>\n",
              "  </thead>\n",
              "  <tbody>\n",
              "    <tr>\n",
              "      <th>0</th>\n",
              "      <td>Aruba</td>\n",
              "      <td>0</td>\n",
              "      <td>2</td>\n",
              "      <td>1</td>\n",
              "    </tr>\n",
              "    <tr>\n",
              "      <th>1</th>\n",
              "      <td>Afghanistan</td>\n",
              "      <td>0</td>\n",
              "      <td>2</td>\n",
              "      <td>1</td>\n",
              "    </tr>\n",
              "    <tr>\n",
              "      <th>2</th>\n",
              "      <td>Angola</td>\n",
              "      <td>0</td>\n",
              "      <td>2</td>\n",
              "      <td>1</td>\n",
              "    </tr>\n",
              "    <tr>\n",
              "      <th>3</th>\n",
              "      <td>Albania</td>\n",
              "      <td>0</td>\n",
              "      <td>1</td>\n",
              "      <td>2</td>\n",
              "    </tr>\n",
              "    <tr>\n",
              "      <th>4</th>\n",
              "      <td>Andorra</td>\n",
              "      <td>1</td>\n",
              "      <td>0</td>\n",
              "      <td>2</td>\n",
              "    </tr>\n",
              "  </tbody>\n",
              "</table>\n",
              "</div>"
            ],
            "text/plain": [
              "       Country  Slow  Moderate  Fast\n",
              "0        Aruba     0         2     1\n",
              "1  Afghanistan     0         2     1\n",
              "2       Angola     0         2     1\n",
              "3      Albania     0         1     2\n",
              "4      Andorra     1         0     2"
            ]
          },
          "metadata": {
            "tags": []
          },
          "execution_count": 5
        }
      ]
    },
    {
      "cell_type": "code",
      "metadata": {
        "colab": {
          "base_uri": "https://localhost:8080/",
          "height": 443
        },
        "id": "bsdbWyM0IwWm",
        "outputId": "124f2318-1565-4b61-d263-f616bfd980b3"
      },
      "source": [
        "# create an Empty DataFrame\n",
        "df_train = pd.DataFrame(columns = ['SN', 'Date', 'Confirmed Cases','Daily Cases','Country']) \n",
        "\n",
        "for ind in df_newfile.index:\n",
        "  countryname=df_newfile['Country'][ind]\n",
        "  slowphase=df_newfile['Slow'][ind]\n",
        "  #df_slow stores SN, Date, ConfirmedCases\n",
        "  dfslow=pd.read_csv('/content/'+countryname+'.csv_split'+str(slowphase)+'.csv')\n",
        "  #we add a column with country name and another one with daily cases\n",
        "  dfslow['CountryName']=countryname\n",
        "  dfslow['Daily Cases'] = dfslow['Confirmed Cases'].diff().fillna(0)\n",
        "  \n",
        "  if (countryname=='Japan' or countryname=='India' or countryname=='Indonesia' or countryname=='United States' or countryname=='Brazil'):\n",
        "    dfslow=dfslow[0:len(dfslow.index)-17]\n",
        "  \n",
        "  #now we add this to Train data set\n",
        "  for ind2 in dfslow.index:\n",
        "    df_train = df_train.append({'SN' :dfslow['SN'][ind2],'Date':dfslow['Date'][ind2], 'Confirmed Cases' :dfslow['Confirmed Cases'][ind2],'Daily Cases':dfslow['Daily Cases'][ind2],'Country':countryname}, ignore_index = True)\n",
        "  #df_train.append(dfslow, ignore_index=True)\n",
        "  #del dfslow\n",
        "\n",
        "\n",
        "print(df_train)\n",
        "\n"
      ],
      "execution_count": null,
      "outputs": [
        {
          "output_type": "error",
          "ename": "FileNotFoundError",
          "evalue": "ignored",
          "traceback": [
            "\u001b[0;31m---------------------------------------------------------------------------\u001b[0m",
            "\u001b[0;31mFileNotFoundError\u001b[0m                         Traceback (most recent call last)",
            "\u001b[0;32m<ipython-input-6-e70aa92cb0ec>\u001b[0m in \u001b[0;36m<module>\u001b[0;34m()\u001b[0m\n\u001b[1;32m      6\u001b[0m   \u001b[0mslowphase\u001b[0m\u001b[0;34m=\u001b[0m\u001b[0mdf_newfile\u001b[0m\u001b[0;34m[\u001b[0m\u001b[0;34m'Slow'\u001b[0m\u001b[0;34m]\u001b[0m\u001b[0;34m[\u001b[0m\u001b[0mind\u001b[0m\u001b[0;34m]\u001b[0m\u001b[0;34m\u001b[0m\u001b[0;34m\u001b[0m\u001b[0m\n\u001b[1;32m      7\u001b[0m   \u001b[0;31m#df_slow stores SN, Date, ConfirmedCases\u001b[0m\u001b[0;34m\u001b[0m\u001b[0;34m\u001b[0m\u001b[0;34m\u001b[0m\u001b[0m\n\u001b[0;32m----> 8\u001b[0;31m   \u001b[0mdfslow\u001b[0m\u001b[0;34m=\u001b[0m\u001b[0mpd\u001b[0m\u001b[0;34m.\u001b[0m\u001b[0mread_csv\u001b[0m\u001b[0;34m(\u001b[0m\u001b[0;34m'/content/'\u001b[0m\u001b[0;34m+\u001b[0m\u001b[0mcountryname\u001b[0m\u001b[0;34m+\u001b[0m\u001b[0;34m'.csv_split'\u001b[0m\u001b[0;34m+\u001b[0m\u001b[0mstr\u001b[0m\u001b[0;34m(\u001b[0m\u001b[0mslowphase\u001b[0m\u001b[0;34m)\u001b[0m\u001b[0;34m+\u001b[0m\u001b[0;34m'.csv'\u001b[0m\u001b[0;34m)\u001b[0m\u001b[0;34m\u001b[0m\u001b[0;34m\u001b[0m\u001b[0m\n\u001b[0m\u001b[1;32m      9\u001b[0m   \u001b[0;31m#we add a column with country name and another one with daily cases\u001b[0m\u001b[0;34m\u001b[0m\u001b[0;34m\u001b[0m\u001b[0;34m\u001b[0m\u001b[0m\n\u001b[1;32m     10\u001b[0m   \u001b[0mdfslow\u001b[0m\u001b[0;34m[\u001b[0m\u001b[0;34m'CountryName'\u001b[0m\u001b[0;34m]\u001b[0m\u001b[0;34m=\u001b[0m\u001b[0mcountryname\u001b[0m\u001b[0;34m\u001b[0m\u001b[0;34m\u001b[0m\u001b[0m\n",
            "\u001b[0;32m/usr/local/lib/python3.6/dist-packages/pandas/io/parsers.py\u001b[0m in \u001b[0;36mread_csv\u001b[0;34m(filepath_or_buffer, sep, delimiter, header, names, index_col, usecols, squeeze, prefix, mangle_dupe_cols, dtype, engine, converters, true_values, false_values, skipinitialspace, skiprows, skipfooter, nrows, na_values, keep_default_na, na_filter, verbose, skip_blank_lines, parse_dates, infer_datetime_format, keep_date_col, date_parser, dayfirst, cache_dates, iterator, chunksize, compression, thousands, decimal, lineterminator, quotechar, quoting, doublequote, escapechar, comment, encoding, dialect, error_bad_lines, warn_bad_lines, delim_whitespace, low_memory, memory_map, float_precision)\u001b[0m\n\u001b[1;32m    686\u001b[0m     )\n\u001b[1;32m    687\u001b[0m \u001b[0;34m\u001b[0m\u001b[0m\n\u001b[0;32m--> 688\u001b[0;31m     \u001b[0;32mreturn\u001b[0m \u001b[0m_read\u001b[0m\u001b[0;34m(\u001b[0m\u001b[0mfilepath_or_buffer\u001b[0m\u001b[0;34m,\u001b[0m \u001b[0mkwds\u001b[0m\u001b[0;34m)\u001b[0m\u001b[0;34m\u001b[0m\u001b[0;34m\u001b[0m\u001b[0m\n\u001b[0m\u001b[1;32m    689\u001b[0m \u001b[0;34m\u001b[0m\u001b[0m\n\u001b[1;32m    690\u001b[0m \u001b[0;34m\u001b[0m\u001b[0m\n",
            "\u001b[0;32m/usr/local/lib/python3.6/dist-packages/pandas/io/parsers.py\u001b[0m in \u001b[0;36m_read\u001b[0;34m(filepath_or_buffer, kwds)\u001b[0m\n\u001b[1;32m    452\u001b[0m \u001b[0;34m\u001b[0m\u001b[0m\n\u001b[1;32m    453\u001b[0m     \u001b[0;31m# Create the parser.\u001b[0m\u001b[0;34m\u001b[0m\u001b[0;34m\u001b[0m\u001b[0;34m\u001b[0m\u001b[0m\n\u001b[0;32m--> 454\u001b[0;31m     \u001b[0mparser\u001b[0m \u001b[0;34m=\u001b[0m \u001b[0mTextFileReader\u001b[0m\u001b[0;34m(\u001b[0m\u001b[0mfp_or_buf\u001b[0m\u001b[0;34m,\u001b[0m \u001b[0;34m**\u001b[0m\u001b[0mkwds\u001b[0m\u001b[0;34m)\u001b[0m\u001b[0;34m\u001b[0m\u001b[0;34m\u001b[0m\u001b[0m\n\u001b[0m\u001b[1;32m    455\u001b[0m \u001b[0;34m\u001b[0m\u001b[0m\n\u001b[1;32m    456\u001b[0m     \u001b[0;32mif\u001b[0m \u001b[0mchunksize\u001b[0m \u001b[0;32mor\u001b[0m \u001b[0miterator\u001b[0m\u001b[0;34m:\u001b[0m\u001b[0;34m\u001b[0m\u001b[0;34m\u001b[0m\u001b[0m\n",
            "\u001b[0;32m/usr/local/lib/python3.6/dist-packages/pandas/io/parsers.py\u001b[0m in \u001b[0;36m__init__\u001b[0;34m(self, f, engine, **kwds)\u001b[0m\n\u001b[1;32m    946\u001b[0m             \u001b[0mself\u001b[0m\u001b[0;34m.\u001b[0m\u001b[0moptions\u001b[0m\u001b[0;34m[\u001b[0m\u001b[0;34m\"has_index_names\"\u001b[0m\u001b[0;34m]\u001b[0m \u001b[0;34m=\u001b[0m \u001b[0mkwds\u001b[0m\u001b[0;34m[\u001b[0m\u001b[0;34m\"has_index_names\"\u001b[0m\u001b[0;34m]\u001b[0m\u001b[0;34m\u001b[0m\u001b[0;34m\u001b[0m\u001b[0m\n\u001b[1;32m    947\u001b[0m \u001b[0;34m\u001b[0m\u001b[0m\n\u001b[0;32m--> 948\u001b[0;31m         \u001b[0mself\u001b[0m\u001b[0;34m.\u001b[0m\u001b[0m_make_engine\u001b[0m\u001b[0;34m(\u001b[0m\u001b[0mself\u001b[0m\u001b[0;34m.\u001b[0m\u001b[0mengine\u001b[0m\u001b[0;34m)\u001b[0m\u001b[0;34m\u001b[0m\u001b[0;34m\u001b[0m\u001b[0m\n\u001b[0m\u001b[1;32m    949\u001b[0m \u001b[0;34m\u001b[0m\u001b[0m\n\u001b[1;32m    950\u001b[0m     \u001b[0;32mdef\u001b[0m \u001b[0mclose\u001b[0m\u001b[0;34m(\u001b[0m\u001b[0mself\u001b[0m\u001b[0;34m)\u001b[0m\u001b[0;34m:\u001b[0m\u001b[0;34m\u001b[0m\u001b[0;34m\u001b[0m\u001b[0m\n",
            "\u001b[0;32m/usr/local/lib/python3.6/dist-packages/pandas/io/parsers.py\u001b[0m in \u001b[0;36m_make_engine\u001b[0;34m(self, engine)\u001b[0m\n\u001b[1;32m   1178\u001b[0m     \u001b[0;32mdef\u001b[0m \u001b[0m_make_engine\u001b[0m\u001b[0;34m(\u001b[0m\u001b[0mself\u001b[0m\u001b[0;34m,\u001b[0m \u001b[0mengine\u001b[0m\u001b[0;34m=\u001b[0m\u001b[0;34m\"c\"\u001b[0m\u001b[0;34m)\u001b[0m\u001b[0;34m:\u001b[0m\u001b[0;34m\u001b[0m\u001b[0;34m\u001b[0m\u001b[0m\n\u001b[1;32m   1179\u001b[0m         \u001b[0;32mif\u001b[0m \u001b[0mengine\u001b[0m \u001b[0;34m==\u001b[0m \u001b[0;34m\"c\"\u001b[0m\u001b[0;34m:\u001b[0m\u001b[0;34m\u001b[0m\u001b[0;34m\u001b[0m\u001b[0m\n\u001b[0;32m-> 1180\u001b[0;31m             \u001b[0mself\u001b[0m\u001b[0;34m.\u001b[0m\u001b[0m_engine\u001b[0m \u001b[0;34m=\u001b[0m \u001b[0mCParserWrapper\u001b[0m\u001b[0;34m(\u001b[0m\u001b[0mself\u001b[0m\u001b[0;34m.\u001b[0m\u001b[0mf\u001b[0m\u001b[0;34m,\u001b[0m \u001b[0;34m**\u001b[0m\u001b[0mself\u001b[0m\u001b[0;34m.\u001b[0m\u001b[0moptions\u001b[0m\u001b[0;34m)\u001b[0m\u001b[0;34m\u001b[0m\u001b[0;34m\u001b[0m\u001b[0m\n\u001b[0m\u001b[1;32m   1181\u001b[0m         \u001b[0;32melse\u001b[0m\u001b[0;34m:\u001b[0m\u001b[0;34m\u001b[0m\u001b[0;34m\u001b[0m\u001b[0m\n\u001b[1;32m   1182\u001b[0m             \u001b[0;32mif\u001b[0m \u001b[0mengine\u001b[0m \u001b[0;34m==\u001b[0m \u001b[0;34m\"python\"\u001b[0m\u001b[0;34m:\u001b[0m\u001b[0;34m\u001b[0m\u001b[0;34m\u001b[0m\u001b[0m\n",
            "\u001b[0;32m/usr/local/lib/python3.6/dist-packages/pandas/io/parsers.py\u001b[0m in \u001b[0;36m__init__\u001b[0;34m(self, src, **kwds)\u001b[0m\n\u001b[1;32m   2008\u001b[0m         \u001b[0mkwds\u001b[0m\u001b[0;34m[\u001b[0m\u001b[0;34m\"usecols\"\u001b[0m\u001b[0;34m]\u001b[0m \u001b[0;34m=\u001b[0m \u001b[0mself\u001b[0m\u001b[0;34m.\u001b[0m\u001b[0musecols\u001b[0m\u001b[0;34m\u001b[0m\u001b[0;34m\u001b[0m\u001b[0m\n\u001b[1;32m   2009\u001b[0m \u001b[0;34m\u001b[0m\u001b[0m\n\u001b[0;32m-> 2010\u001b[0;31m         \u001b[0mself\u001b[0m\u001b[0;34m.\u001b[0m\u001b[0m_reader\u001b[0m \u001b[0;34m=\u001b[0m \u001b[0mparsers\u001b[0m\u001b[0;34m.\u001b[0m\u001b[0mTextReader\u001b[0m\u001b[0;34m(\u001b[0m\u001b[0msrc\u001b[0m\u001b[0;34m,\u001b[0m \u001b[0;34m**\u001b[0m\u001b[0mkwds\u001b[0m\u001b[0;34m)\u001b[0m\u001b[0;34m\u001b[0m\u001b[0;34m\u001b[0m\u001b[0m\n\u001b[0m\u001b[1;32m   2011\u001b[0m         \u001b[0mself\u001b[0m\u001b[0;34m.\u001b[0m\u001b[0munnamed_cols\u001b[0m \u001b[0;34m=\u001b[0m \u001b[0mself\u001b[0m\u001b[0;34m.\u001b[0m\u001b[0m_reader\u001b[0m\u001b[0;34m.\u001b[0m\u001b[0munnamed_cols\u001b[0m\u001b[0;34m\u001b[0m\u001b[0;34m\u001b[0m\u001b[0m\n\u001b[1;32m   2012\u001b[0m \u001b[0;34m\u001b[0m\u001b[0m\n",
            "\u001b[0;32mpandas/_libs/parsers.pyx\u001b[0m in \u001b[0;36mpandas._libs.parsers.TextReader.__cinit__\u001b[0;34m()\u001b[0m\n",
            "\u001b[0;32mpandas/_libs/parsers.pyx\u001b[0m in \u001b[0;36mpandas._libs.parsers.TextReader._setup_parser_source\u001b[0;34m()\u001b[0m\n",
            "\u001b[0;31mFileNotFoundError\u001b[0m: [Errno 2] No such file or directory: '/content/Aruba.csv_split0.csv'"
          ]
        }
      ]
    },
    {
      "cell_type": "code",
      "metadata": {
        "colab": {
          "background_save": true
        },
        "id": "dJcVv_7UUQmc"
      },
      "source": [
        "df_train.to_csv('df_train.csv')"
      ],
      "execution_count": null,
      "outputs": []
    },
    {
      "cell_type": "code",
      "metadata": {
        "colab": {
          "base_uri": "https://localhost:8080/"
        },
        "id": "SjUygEguVD6F",
        "outputId": "77a69419-466e-482e-ec85-7c558ee4b8e1"
      },
      "source": [
        "X_train=[]\n",
        "Y_train=[]\n",
        "\n",
        "#now we divide df_train to X_train and Y_train\n",
        "\n",
        "#for every country in df_newfile\n",
        "for ind in df_newfile.index:\n",
        "  countryname=df_newfile['Country'][ind]\n",
        "  \n",
        "  for ind2 in dfslow.index:\n",
        "    df_g=df_train[df_train['Country']==countryname]\n",
        "    df_g = df_g[df_g['Daily Cases']>0]\n",
        "    df_g=df_g['Daily Cases']\n",
        "    data=df_g.values\n",
        "    for i in range(0,len(data)):\n",
        "        if i+17<=len(data):\n",
        "            X_train.append(data[i:i+10])\n",
        "            Y_train.append(data[i+10:i+17])\n",
        "    \n",
        "X_train=np.array(X_train)\n",
        "Y_train=np.array(Y_train)\n",
        "print(X_train)\n",
        "print(Y_train)\n",
        "print(len(X_train))\n",
        "print(len(Y_train))"
      ],
      "execution_count": null,
      "outputs": [
        {
          "output_type": "stream",
          "text": [
            "[[2.000e+00 1.000e+00 1.000e+00 ... 1.100e+01 5.000e+00 1.300e+01]\n",
            " [1.000e+00 1.000e+00 1.000e+00 ... 5.000e+00 1.300e+01 4.000e+00]\n",
            " [1.000e+00 1.000e+00 4.000e+00 ... 1.300e+01 4.000e+00 5.000e+00]\n",
            " ...\n",
            " [9.880e+02 1.218e+03 1.240e+03 ... 1.837e+03 1.727e+03 1.716e+03]\n",
            " [1.218e+03 1.240e+03 1.032e+03 ... 1.727e+03 1.716e+03 1.674e+03]\n",
            " [1.240e+03 1.032e+03 6.490e+02 ... 1.716e+03 1.674e+03 1.455e+03]]\n",
            "[[4.000e+00 5.000e+00 5.000e+00 ... 2.000e+00 7.000e+00 3.000e+00]\n",
            " [5.000e+00 5.000e+00 2.000e+00 ... 7.000e+00 3.000e+00 3.000e+00]\n",
            " [5.000e+00 2.000e+00 2.000e+00 ... 3.000e+00 3.000e+00 5.000e+00]\n",
            " ...\n",
            " [1.674e+03 1.455e+03 1.713e+03 ... 2.642e+03 2.539e+03 2.312e+03]\n",
            " [1.455e+03 1.713e+03 3.267e+03 ... 2.539e+03 2.312e+03 2.594e+03]\n",
            " [1.713e+03 3.267e+03 2.642e+03 ... 2.312e+03 2.594e+03 2.112e+03]]\n",
            "2828000\n",
            "2828000\n"
          ],
          "name": "stdout"
        }
      ]
    },
    {
      "cell_type": "code",
      "metadata": {
        "colab": {
          "base_uri": "https://localhost:8080/"
        },
        "id": "ktBovm_I-VAz",
        "outputId": "4be315f2-26b0-416d-f672-3c50dc9a151d"
      },
      "source": [
        "#scaling the data\n",
        "scaler = MinMaxScaler(feature_range=(0, 1))\n",
        "data=df_train['Confirmed Cases'].values\n",
        "#print(data.shape)\n",
        "data=data.reshape((len(data),1))\n",
        "scaler.fit(data)\n",
        "X_train= scaler.transform(X_train)\n",
        "Y_train=scaler.transform(Y_train)\n",
        "\n",
        "X_train=X_train.reshape((len(X_train),10,1))\n",
        "print(X_train.shape,Y_train.shape)\n"
      ],
      "execution_count": null,
      "outputs": [
        {
          "output_type": "stream",
          "text": [
            "(2828000, 10, 1) (2828000, 7)\n"
          ],
          "name": "stdout"
        }
      ]
    },
    {
      "cell_type": "code",
      "metadata": {
        "colab": {
          "base_uri": "https://localhost:8080/"
        },
        "id": "TGkwslsFF5FF",
        "outputId": "735cda85-7726-41a0-b92d-3cb02077be96"
      },
      "source": [
        "# LSTM architecture\n",
        "def model_arch():\n",
        "    lstm_hidden = 32\n",
        "    initi = keras.initializers.RandomNormal(mean=0.0, stddev=0.01, seed=123)\n",
        "    main_input = Input(shape=(10,1), name='main_input')\n",
        "    lstm_out = LSTM(lstm_hidden,kernel_initializer=initi, recurrent_initializer= initi, bias_initializer=initi)(main_input)\n",
        "    lstm_out = Dropout(0.45)(lstm_out)\n",
        "    main_output = (Dense(7, name='main_output')(lstm_out))\n",
        "#     Adam=keras.optimizers.Adam(lr=0.01, beta_1=0.9, beta_2=0.999, epsilon=None, decay=0.01, amsgrad=False)\n",
        "\n",
        "    model = Model(inputs=main_input, outputs=main_output)\n",
        "    model.compile(loss='mean_squared_error',optimizer='adam')\n",
        "    return model\n",
        "\n",
        "model = model_arch()\n",
        "earlystop=EarlyStopping(monitor='val_acc', min_delta=0, patience=4, verbose=0, mode='auto', baseline=None, restore_best_weights=True)\n",
        "callbacks_list = [earlystop]\n",
        "print(\"model is building\")\n",
        "bs = 128\n",
        "model.fit(batch_size=bs,epochs=10,x=X_train,y=Y_train, verbose=1,validation_split=0.1)\n",
        "print(\"model building done\")\n",
        "    "
      ],
      "execution_count": null,
      "outputs": [
        {
          "output_type": "stream",
          "text": [
            "model is building\n",
            "Epoch 1/10\n",
            "19885/19885 [==============================] - 118s 6ms/step - loss: 4.0749e-04 - val_loss: 9.1614e-07\n",
            "Epoch 2/10\n",
            "19885/19885 [==============================] - 118s 6ms/step - loss: 2.9702e-04 - val_loss: 1.2097e-06\n",
            "Epoch 3/10\n",
            "19885/19885 [==============================] - 116s 6ms/step - loss: 2.6217e-04 - val_loss: 8.7506e-07\n",
            "Epoch 4/10\n",
            "19885/19885 [==============================] - 116s 6ms/step - loss: 2.5382e-04 - val_loss: 8.7561e-07\n",
            "Epoch 5/10\n",
            "19885/19885 [==============================] - 116s 6ms/step - loss: 2.4679e-04 - val_loss: 3.2373e-07\n",
            "Epoch 6/10\n",
            "19885/19885 [==============================] - 116s 6ms/step - loss: 2.4175e-04 - val_loss: 5.2944e-07\n",
            "Epoch 7/10\n",
            "19885/19885 [==============================] - 116s 6ms/step - loss: 2.4224e-04 - val_loss: 6.7808e-07\n",
            "Epoch 8/10\n",
            "19885/19885 [==============================] - 117s 6ms/step - loss: 2.4051e-04 - val_loss: 2.0543e-06\n",
            "Epoch 9/10\n",
            "19885/19885 [==============================] - 117s 6ms/step - loss: 2.3887e-04 - val_loss: 1.3497e-06\n",
            "Epoch 10/10\n",
            "19885/19885 [==============================] - 116s 6ms/step - loss: 2.3645e-04 - val_loss: 1.1847e-06\n",
            "model building done\n"
          ],
          "name": "stdout"
        }
      ]
    },
    {
      "cell_type": "code",
      "metadata": {
        "colab": {
          "base_uri": "https://localhost:8080/"
        },
        "id": "XdX488tWK3nt",
        "outputId": "ff5846bd-6776-4b84-ce27-3ab9676257fe"
      },
      "source": [
        "# Prepare test data\n",
        "X_test=[]\n",
        "Y_test=[]\n",
        "for ind in df_newfile.index:\n",
        "  countryname=df_newfile['Country'][ind]\n",
        "  slowphase=df_newfile['Slow'][ind]\n",
        "  #df_slow stores SN, Date, ConfirmedCases\n",
        "  df2=pd.read_csv('/content/'+countryname+'.csv_split'+str(slowphase)+'.csv')\n",
        "  #we add a column with country name and another one with daily cases\n",
        "  df2['CountryName']=countryname\n",
        "  df2['Daily Cases'] = df2['Confirmed Cases'].diff().fillna(0)\n",
        "  \n",
        "  if (countryname=='Japan' or countryname=='India' or countryname=='Indonesia' or countryname=='United States' or countryname=='Brazil'):\n",
        "    df2=df2[len(df2.index)-1-17:len(df2.index)]\n",
        "    df2 = df2[df2['Daily Cases']>0]\n",
        "    df3=df2['Daily Cases']\n",
        "    data2=df3.values\n",
        "    #print(len(data2),\"\\n\")\n",
        "    for i in range(0,len(data2)):\n",
        "        if i+17<=len(data2):\n",
        "            X_test.append(data2[i:i+10])\n",
        "            Y_test.append(data2[i+10:i+17])\n",
        "\n",
        "\n",
        "X_test=np.array(X_test)\n",
        "Y_test=np.array(Y_test)\n",
        "print(len(X_test),len(Y_test))"
      ],
      "execution_count": null,
      "outputs": [
        {
          "output_type": "stream",
          "text": [
            "7 7\n"
          ],
          "name": "stdout"
        }
      ]
    },
    {
      "cell_type": "code",
      "metadata": {
        "colab": {
          "base_uri": "https://localhost:8080/"
        },
        "id": "L5XZG_ltLCT8",
        "outputId": "70b84315-28b2-4955-e5d9-e5ecf6e203d1"
      },
      "source": [
        "X_test= scaler.transform(X_test)\n",
        "X_test=X_test.reshape((len(X_test),10,1))\n",
        "print(X_test.shape,Y_test.shape)"
      ],
      "execution_count": null,
      "outputs": [
        {
          "output_type": "stream",
          "text": [
            "(7, 10, 1) (7, 7)\n"
          ],
          "name": "stdout"
        }
      ]
    },
    {
      "cell_type": "code",
      "metadata": {
        "id": "2F0RN0kYTgfY",
        "colab": {
          "base_uri": "https://localhost:8080/"
        },
        "outputId": "af265f72-bcf7-4a20-dc05-e15e12ca237f"
      },
      "source": [
        "# prediction\n",
        "pred=model.predict(x=X_test)\n",
        "print(pred.shape)\n",
        "#inverse scaling\n",
        "pred1=scaler.inverse_transform(pred)\n",
        "\n",
        "#Find RMSE\n",
        "from sklearn.metrics import mean_squared_error\n",
        "\n",
        "rms = mean_squared_error(Y_test, pred1)\n",
        "print(np.sqrt(rms))"
      ],
      "execution_count": null,
      "outputs": [
        {
          "output_type": "stream",
          "text": [
            "(7, 7)\n",
            "6829.015779286535\n"
          ],
          "name": "stdout"
        }
      ]
    }
  ]
}