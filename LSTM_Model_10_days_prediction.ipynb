{
  "nbformat": 4,
  "nbformat_minor": 0,
  "metadata": {
    "colab": {
      "name": "LSTM Model 10 days prediction.ipynb",
      "provenance": []
    },
    "kernelspec": {
      "name": "python3",
      "display_name": "Python 3"
    }
  },
  "cells": [
    {
      "cell_type": "code",
      "metadata": {
        "id": "najhjgo9JWm6"
      },
      "source": [
        ""
      ],
      "execution_count": null,
      "outputs": []
    },
    {
      "cell_type": "code",
      "metadata": {
        "id": "mstf_bjon7E6"
      },
      "source": [
        "import numpy as np\r\n",
        "import tensorflow as tf\r\n",
        "import pandas as pd"
      ],
      "execution_count": 1,
      "outputs": []
    },
    {
      "cell_type": "code",
      "metadata": {
        "colab": {
          "base_uri": "https://localhost:8080/"
        },
        "id": "TzRtuq-SoJX4",
        "outputId": "bf1871e3-5a64-437c-af70-a3f759d4b6ad"
      },
      "source": [
        "pip install keras"
      ],
      "execution_count": 2,
      "outputs": [
        {
          "output_type": "stream",
          "text": [
            "Requirement already satisfied: keras in /usr/local/lib/python3.6/dist-packages (2.4.3)\n",
            "Requirement already satisfied: numpy>=1.9.1 in /usr/local/lib/python3.6/dist-packages (from keras) (1.19.4)\n",
            "Requirement already satisfied: h5py in /usr/local/lib/python3.6/dist-packages (from keras) (2.10.0)\n",
            "Requirement already satisfied: pyyaml in /usr/local/lib/python3.6/dist-packages (from keras) (3.13)\n",
            "Requirement already satisfied: scipy>=0.14 in /usr/local/lib/python3.6/dist-packages (from keras) (1.4.1)\n",
            "Requirement already satisfied: six in /usr/local/lib/python3.6/dist-packages (from h5py->keras) (1.15.0)\n"
          ],
          "name": "stdout"
        }
      ]
    },
    {
      "cell_type": "code",
      "metadata": {
        "id": "gGwWHLXjqxxh"
      },
      "source": [
        "from keras.models import Sequential\r\n",
        "from keras.layers import LSTM\r\n",
        "from keras.layers import Dense\r\n",
        "from keras.layers import Flatten"
      ],
      "execution_count": 3,
      "outputs": []
    },
    {
      "cell_type": "code",
      "metadata": {
        "id": "I0WN2OytrDTo"
      },
      "source": [
        "# preparing independent and dependent features\r\n",
        "def prepare_data(timeseries_data, n_features):\r\n",
        "\tX, y =[],[]\r\n",
        "\tfor i in range(len(timeseries_data)):\r\n",
        "\t\t# find the end of this pattern\r\n",
        "\t\tend_ix = i + n_features\r\n",
        "\t\t# check if we are beyond the sequence\r\n",
        "\t\tif end_ix > len(timeseries_data)-1:\r\n",
        "\t\t\tbreak\r\n",
        "\t\t# gather input and output parts of the pattern\r\n",
        "\t\tseq_x, seq_y = timeseries_data[i:end_ix], timeseries_data[end_ix]\r\n",
        "\t\tX.append(seq_x)\r\n",
        "\t\ty.append(seq_y)\r\n",
        "\treturn np.array(X), np.array(y)\r\n"
      ],
      "execution_count": 4,
      "outputs": []
    },
    {
      "cell_type": "code",
      "metadata": {
        "colab": {
          "resources": {
            "http://localhost:8080/nbextensions/google.colab/files.js": {
              "data": "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",
              "ok": true,
              "headers": [
                [
                  "content-type",
                  "application/javascript"
                ]
              ],
              "status": 200,
              "status_text": ""
            }
          },
          "base_uri": "https://localhost:8080/",
          "height": 73
        },
        "id": "IAEX92Z6sIjY",
        "outputId": "8d71815a-292a-44d6-df77-e002b12c3a6b"
      },
      "source": [
        "from google.colab import files\r\n",
        "uploaded = files.upload()"
      ],
      "execution_count": 5,
      "outputs": [
        {
          "output_type": "display_data",
          "data": {
            "text/html": [
              "\n",
              "     <input type=\"file\" id=\"files-766634cf-9716-473f-9fa9-735d734b3510\" name=\"files[]\" multiple disabled\n",
              "        style=\"border:none\" />\n",
              "     <output id=\"result-766634cf-9716-473f-9fa9-735d734b3510\">\n",
              "      Upload widget is only available when the cell has been executed in the\n",
              "      current browser session. Please rerun this cell to enable.\n",
              "      </output>\n",
              "      <script src=\"/nbextensions/google.colab/files.js\"></script> "
            ],
            "text/plain": [
              "<IPython.core.display.HTML object>"
            ]
          },
          "metadata": {
            "tags": []
          }
        },
        {
          "output_type": "stream",
          "text": [
            "Saving India.csv to India.csv\n"
          ],
          "name": "stdout"
        }
      ]
    },
    {
      "cell_type": "code",
      "metadata": {
        "colab": {
          "base_uri": "https://localhost:8080/"
        },
        "id": "L5o-zSDatD5w",
        "outputId": "688c47fd-08de-4118-93eb-9e36bc851246"
      },
      "source": [
        "import io\r\n",
        "df = pd.read_csv(io.BytesIO(uploaded['India.csv']))\r\n",
        "df[\"DailyChangeConfirmedCases\"] = df['Confirmed Cases'].diff().fillna(0)\r\n",
        "df.head()\r\n",
        "total_days=df.shape[0]\r\n",
        "print('total days:',total_days)\r\n",
        "# India Dataset is now stored in a Pandas Dataframe df"
      ],
      "execution_count": 6,
      "outputs": [
        {
          "output_type": "stream",
          "text": [
            "total days: 322\n"
          ],
          "name": "stdout"
        }
      ]
    },
    {
      "cell_type": "code",
      "metadata": {
        "colab": {
          "base_uri": "https://localhost:8080/"
        },
        "id": "kG5AXLJzvQe9",
        "outputId": "1b11c9f9-a0d3-4dcb-955e-1189b013f85e"
      },
      "source": [
        "list_of_cases=list(df['DailyChangeConfirmedCases'])\r\n",
        "print(list_of_cases)\r\n",
        "#list_of_cases is a list which stores the daily confirmed cases "
      ],
      "execution_count": 7,
      "outputs": [
        {
          "output_type": "stream",
          "text": [
            "[0.0, 0.0, 0.0, 0.0, 0.0, 0.0, 0.0, 0.0, 1.0, 0.0, 0.0, 1.0, 1.0, 0.0, 0.0, 0.0, 0.0, 0.0, 0.0, 0.0, 0.0, 0.0, 0.0, 0.0, 0.0, 0.0, 0.0, 0.0, 0.0, 0.0, 0.0, 0.0, 0.0, 0.0, 0.0, 0.0, 0.0, 0.0, 0.0, 0.0, 2.0, 0.0, 23.0, 2.0, 1.0, 3.0, 5.0, 4.0, 13.0, 6.0, 11.0, 9.0, 20.0, 11.0, 6.0, 23.0, 14.0, 38.0, 50.0, 86.0, 66.0, 103.0, 37.0, 121.0, 70.0, 160.0, 100.0, 37.0, 227.0, 146.0, 601.0, 545.0, 24.0, 515.0, 506.0, 1190.0, 533.0, 605.0, 809.0, 873.0, 848.0, 759.0, 1248.0, 1034.0, 835.0, 1108.0, 922.0, 1370.0, 1893.0, 924.0, 1541.0, 1290.0, 1707.0, 1453.0, 1753.0, 1607.0, 1561.0, 1873.0, 1738.0, 1801.0, 2394.0, 2442.0, 2806.0, 3932.0, 2963.0, 3587.0, 3364.0, 3344.0, 3113.0, 4353.0, 3607.0, 3524.0, 3763.0, 3942.0, 3787.0, 4864.0, 5050.0, 4630.0, 6147.0, 5553.0, 6198.0, 6568.0, 6629.0, 7113.0, 6414.0, 5843.0, 7293.0, 7300.0, 8105.0, 8336.0, 8782.0, 7761.0, 8821.0, 9633.0, 9889.0, 9471.0, 10438.0, 10864.0, 8442.0, 10218.0, 10459.0, 10930.0, 11458.0, 11929.0, 11502.0, 10667.0, 10974.0, 12881.0, 13586.0, 14516.0, 15403.0, 14831.0, 14933.0, 15968.0, 16922.0, 17296.0, 18552.0, 19906.0, 19459.0, 18522.0, 18641.0, 19160.0, 20903.0, 22771.0, 24850.0, 24248.0, 22251.0, 22753.0, 24879.0, 26506.0, 27114.0, 28606.0, 28732.0, 28498.0, 29429.0, 32676.0, 34975.0, 35252.0, 38697.0, 40425.0, 37132.0, 37740.0, 45720.0, 49310.0, 48916.0, 48611.0, 49981.0, 44457.0, 51596.0, 50294.0, 52783.0, 61242.0, 54735.0, 52972.0, 52050.0, 52509.0, 56282.0, 62538.0, 61537.0, 64399.0, 62064.0, 53601.0, 60963.0, 66999.0, 64553.0, 64732.0, 64030.0, 57711.0, 55018.0, 64572.0, 69672.0, 68900.0, 69876.0, 69239.0, 61408.0, 60975.0, 57224.0, 85687.0, 77266.0, 76472.0, 78761.0, 78512.0, 69921.0, 78357.0, 83883.0, 83341.0, 86432.0, 90632.0, 90802.0, 75809.0, 89706.0, 95735.0, 96551.0, 97570.0, 94372.0, 92071.0, 83809.0, 90123.0, 97894.0, 96424.0, 93337.0, 92605.0, 86961.0, 75083.0, 83347.0, 86508.0, 86052.0, 85362.0, 88600.0, 82170.0, 70589.0, 80472.0, 86821.0, 81484.0, 79476.0, 75829.0, 74442.0, 61267.0, 72049.0, 78524.0, 70496.0, 73272.0, 74383.0, 66732.0, 55342.0, 63509.0, 67708.0, 63371.0, 62212.0, 61871.0, 55722.0, 46790.0, 54044.0, 55839.0, 54366.0, 53370.0, 50129.0, 45148.0, 36470.0, 43893.0, 49881.0, 48648.0, 48268.0, 46963.0, 45231.0, 38310.0, 46253.0, 50210.0, 47638.0, 50356.0, 45674.0, 45903.0, 38073.0, 44281.0, 47905.0, 44879.0, 44684.0, 41100.0, 30548.0, 29163.0, 38617.0, 45576.0, 45882.0, 46232.0, 45209.0, 44059.0, 37975.0, 44376.0, 44489.0, 43082.0, 41322.0, 41810.0, 38772.0, 31118.0, 36604.0, 35551.0, 36595.0, 36652.0, 36011.0, 32981.0, 26567.0, 32080.0]\n"
          ],
          "name": "stdout"
        }
      ]
    },
    {
      "cell_type": "code",
      "metadata": {
        "colab": {
          "base_uri": "https://localhost:8080/"
        },
        "id": "PZIXu5Stvc9O",
        "outputId": "846296ba-d9c2-4eec-d0f2-cf10d124c1fe"
      },
      "source": [
        "n_steps=20  #takes into account last 20 days' cases to predict next day's number of cases.\r\n",
        "X,y=prepare_data(list_of_cases, n_steps)\r\n",
        "#print(X)\r\n",
        "print(len(y))\r\n",
        "#number of training example records fed is 302"
      ],
      "execution_count": 8,
      "outputs": [
        {
          "output_type": "stream",
          "text": [
            "302\n"
          ],
          "name": "stdout"
        }
      ]
    },
    {
      "cell_type": "code",
      "metadata": {
        "colab": {
          "base_uri": "https://localhost:8080/"
        },
        "id": "pDfpxkQ9xznL",
        "outputId": "377ab881-32e3-4132-ee85-d6e00b6b2067"
      },
      "source": [
        "#The LSTM input layer must be 3D - samples(records), time steps, and features. \r\n",
        "n_features = 1\r\n",
        "X = X.reshape((X.shape[0], X.shape[1], n_features))\r\n",
        "X.shape"
      ],
      "execution_count": 9,
      "outputs": [
        {
          "output_type": "execute_result",
          "data": {
            "text/plain": [
              "(302, 20, 1)"
            ]
          },
          "metadata": {
            "tags": []
          },
          "execution_count": 9
        }
      ]
    },
    {
      "cell_type": "code",
      "metadata": {
        "colab": {
          "base_uri": "https://localhost:8080/"
        },
        "id": "GkXxM5xy3EMJ",
        "outputId": "2527a967-1bfa-4940-8737-16712887c982"
      },
      "source": [
        "# define model. 2 LSTM layers, followed by a dense layer or FC layer that gives 1 output.\r\n",
        "model = Sequential()\r\n",
        "model.add(LSTM(50, activation='relu', return_sequences=True, input_shape=(n_steps, n_features)))\r\n",
        "model.add(LSTM(50, activation='relu'))\r\n",
        "model.add(Dense(1))\r\n",
        "model.compile(optimizer='adam', loss='mse')\r\n",
        "# fit model\r\n",
        "model.fit(X, y, epochs=300, verbose=1)"
      ],
      "execution_count": 10,
      "outputs": [
        {
          "output_type": "stream",
          "text": [
            "Epoch 1/300\n",
            "10/10 [==============================] - 3s 22ms/step - loss: 1195020898.9091\n",
            "Epoch 2/300\n",
            "10/10 [==============================] - 0s 21ms/step - loss: 793455749.8182\n",
            "Epoch 3/300\n",
            "10/10 [==============================] - 0s 20ms/step - loss: 515334551.2727\n",
            "Epoch 4/300\n",
            "10/10 [==============================] - 0s 21ms/step - loss: 183586171.6364\n",
            "Epoch 5/300\n",
            "10/10 [==============================] - 0s 22ms/step - loss: 195594091.6364\n",
            "Epoch 6/300\n",
            "10/10 [==============================] - 0s 20ms/step - loss: 218306501.8182\n",
            "Epoch 7/300\n",
            "10/10 [==============================] - 0s 20ms/step - loss: 341324695.2727\n",
            "Epoch 8/300\n",
            "10/10 [==============================] - 0s 24ms/step - loss: 171762234.1818\n",
            "Epoch 9/300\n",
            "10/10 [==============================] - 0s 20ms/step - loss: 122350203.6364\n",
            "Epoch 10/300\n",
            "10/10 [==============================] - 0s 18ms/step - loss: 100727472.7273\n",
            "Epoch 11/300\n",
            "10/10 [==============================] - 0s 18ms/step - loss: 81976881.4545\n",
            "Epoch 12/300\n",
            "10/10 [==============================] - 0s 18ms/step - loss: 99580864.7273\n",
            "Epoch 13/300\n",
            "10/10 [==============================] - 0s 18ms/step - loss: 135115816.7273\n",
            "Epoch 14/300\n",
            "10/10 [==============================] - 0s 18ms/step - loss: 107373279.6364\n",
            "Epoch 15/300\n",
            "10/10 [==============================] - 0s 20ms/step - loss: 161136824.7273\n",
            "Epoch 16/300\n",
            "10/10 [==============================] - 0s 20ms/step - loss: 287561618.9091\n",
            "Epoch 17/300\n",
            "10/10 [==============================] - 0s 20ms/step - loss: 146313447.2727\n",
            "Epoch 18/300\n",
            "10/10 [==============================] - 0s 20ms/step - loss: 240399746.9091\n",
            "Epoch 19/300\n",
            "10/10 [==============================] - 0s 20ms/step - loss: 180217541.8182\n",
            "Epoch 20/300\n",
            "10/10 [==============================] - 0s 20ms/step - loss: 378096407.2727\n",
            "Epoch 21/300\n",
            "10/10 [==============================] - 0s 20ms/step - loss: 521478283.6364\n",
            "Epoch 22/300\n",
            "10/10 [==============================] - 0s 20ms/step - loss: 607576215.2727\n",
            "Epoch 23/300\n",
            "10/10 [==============================] - 0s 20ms/step - loss: 466633888.0000\n",
            "Epoch 24/300\n",
            "10/10 [==============================] - 0s 21ms/step - loss: 426293757.0909\n",
            "Epoch 25/300\n",
            "10/10 [==============================] - 0s 21ms/step - loss: 551012480.0000\n",
            "Epoch 26/300\n",
            "10/10 [==============================] - 0s 20ms/step - loss: 379587758.5455\n",
            "Epoch 27/300\n",
            "10/10 [==============================] - 0s 23ms/step - loss: 1870860439.2727\n",
            "Epoch 28/300\n",
            "10/10 [==============================] - 0s 21ms/step - loss: 2371024616.7273\n",
            "Epoch 29/300\n",
            "10/10 [==============================] - 0s 21ms/step - loss: 1976405824.0000\n",
            "Epoch 30/300\n",
            "10/10 [==============================] - 0s 20ms/step - loss: 2399303598.5455\n",
            "Epoch 31/300\n",
            "10/10 [==============================] - 0s 21ms/step - loss: 347008141.0909\n",
            "Epoch 32/300\n",
            "10/10 [==============================] - 0s 23ms/step - loss: 262893909.8182\n",
            "Epoch 33/300\n",
            "10/10 [==============================] - 0s 21ms/step - loss: 234551128.7273\n",
            "Epoch 34/300\n",
            "10/10 [==============================] - 0s 23ms/step - loss: 313533872.0000\n",
            "Epoch 35/300\n",
            "10/10 [==============================] - 0s 20ms/step - loss: 331711610.1818\n",
            "Epoch 36/300\n",
            "10/10 [==============================] - 0s 20ms/step - loss: 320735450.1818\n",
            "Epoch 37/300\n",
            "10/10 [==============================] - 0s 18ms/step - loss: 352387153.4545\n",
            "Epoch 38/300\n",
            "10/10 [==============================] - 0s 19ms/step - loss: 1665597888.0000\n",
            "Epoch 39/300\n",
            "10/10 [==============================] - 0s 20ms/step - loss: 263662992.0000\n",
            "Epoch 40/300\n",
            "10/10 [==============================] - 0s 22ms/step - loss: 302876677.8182\n",
            "Epoch 41/300\n",
            "10/10 [==============================] - 0s 20ms/step - loss: 102569440.7273\n",
            "Epoch 42/300\n",
            "10/10 [==============================] - 0s 20ms/step - loss: 51105795.6364\n",
            "Epoch 43/300\n",
            "10/10 [==============================] - 0s 21ms/step - loss: 41713193.8182\n",
            "Epoch 44/300\n",
            "10/10 [==============================] - 0s 20ms/step - loss: 34135642.5455\n",
            "Epoch 45/300\n",
            "10/10 [==============================] - 0s 20ms/step - loss: 33437415.4545\n",
            "Epoch 46/300\n",
            "10/10 [==============================] - 0s 21ms/step - loss: 38093301.2727\n",
            "Epoch 47/300\n",
            "10/10 [==============================] - 0s 21ms/step - loss: 49525636.0000\n",
            "Epoch 48/300\n",
            "10/10 [==============================] - 0s 21ms/step - loss: 35937889.0909\n",
            "Epoch 49/300\n",
            "10/10 [==============================] - 0s 18ms/step - loss: 44420870.5455\n",
            "Epoch 50/300\n",
            "10/10 [==============================] - 0s 19ms/step - loss: 45569416.0000\n",
            "Epoch 51/300\n",
            "10/10 [==============================] - 0s 18ms/step - loss: 46979131.6364\n",
            "Epoch 52/300\n",
            "10/10 [==============================] - 0s 18ms/step - loss: 50043717.0909\n",
            "Epoch 53/300\n",
            "10/10 [==============================] - 0s 20ms/step - loss: 37850383.6364\n",
            "Epoch 54/300\n",
            "10/10 [==============================] - 0s 20ms/step - loss: 44006239.6364\n",
            "Epoch 55/300\n",
            "10/10 [==============================] - 0s 19ms/step - loss: 34092347.0909\n",
            "Epoch 56/300\n",
            "10/10 [==============================] - 0s 19ms/step - loss: 37541654.9091\n",
            "Epoch 57/300\n",
            "10/10 [==============================] - 0s 18ms/step - loss: 37800552.7273\n",
            "Epoch 58/300\n",
            "10/10 [==============================] - 0s 19ms/step - loss: 35972664.5455\n",
            "Epoch 59/300\n",
            "10/10 [==============================] - 0s 21ms/step - loss: 32440961.4545\n",
            "Epoch 60/300\n",
            "10/10 [==============================] - 0s 18ms/step - loss: 39863322.5455\n",
            "Epoch 61/300\n",
            "10/10 [==============================] - 0s 18ms/step - loss: 34676786.9091\n",
            "Epoch 62/300\n",
            "10/10 [==============================] - 0s 18ms/step - loss: 36155825.6364\n",
            "Epoch 63/300\n",
            "10/10 [==============================] - 0s 19ms/step - loss: 30260908.0909\n",
            "Epoch 64/300\n",
            "10/10 [==============================] - 0s 19ms/step - loss: 33905534.0000\n",
            "Epoch 65/300\n",
            "10/10 [==============================] - 0s 20ms/step - loss: 35249827.8182\n",
            "Epoch 66/300\n",
            "10/10 [==============================] - 0s 20ms/step - loss: 31810202.0000\n",
            "Epoch 67/300\n",
            "10/10 [==============================] - 0s 19ms/step - loss: 32920845.4545\n",
            "Epoch 68/300\n",
            "10/10 [==============================] - 0s 19ms/step - loss: 34101264.3636\n",
            "Epoch 69/300\n",
            "10/10 [==============================] - 0s 19ms/step - loss: 33038370.5455\n",
            "Epoch 70/300\n",
            "10/10 [==============================] - 0s 19ms/step - loss: 30288570.1818\n",
            "Epoch 71/300\n",
            "10/10 [==============================] - 0s 18ms/step - loss: 39154401.8182\n",
            "Epoch 72/300\n",
            "10/10 [==============================] - 0s 18ms/step - loss: 34693112.0000\n",
            "Epoch 73/300\n",
            "10/10 [==============================] - 0s 22ms/step - loss: 33086792.9091\n",
            "Epoch 74/300\n",
            "10/10 [==============================] - 0s 18ms/step - loss: 30096407.2727\n",
            "Epoch 75/300\n",
            "10/10 [==============================] - 0s 22ms/step - loss: 29195518.0000\n",
            "Epoch 76/300\n",
            "10/10 [==============================] - 0s 23ms/step - loss: 29476703.2727\n",
            "Epoch 77/300\n",
            "10/10 [==============================] - 0s 21ms/step - loss: 31150361.8182\n",
            "Epoch 78/300\n",
            "10/10 [==============================] - 0s 23ms/step - loss: 32477770.0000\n",
            "Epoch 79/300\n",
            "10/10 [==============================] - 0s 20ms/step - loss: 29934730.3636\n",
            "Epoch 80/300\n",
            "10/10 [==============================] - 0s 19ms/step - loss: 28653988.5455\n",
            "Epoch 81/300\n",
            "10/10 [==============================] - 0s 21ms/step - loss: 30363510.1818\n",
            "Epoch 82/300\n",
            "10/10 [==============================] - 0s 19ms/step - loss: 29595752.5455\n",
            "Epoch 83/300\n",
            "10/10 [==============================] - 0s 19ms/step - loss: 26418328.5455\n",
            "Epoch 84/300\n",
            "10/10 [==============================] - 0s 19ms/step - loss: 28271806.3636\n",
            "Epoch 85/300\n",
            "10/10 [==============================] - 0s 20ms/step - loss: 25786281.0000\n",
            "Epoch 86/300\n",
            "10/10 [==============================] - 0s 19ms/step - loss: 31754494.7273\n",
            "Epoch 87/300\n",
            "10/10 [==============================] - 0s 20ms/step - loss: 28789650.9091\n",
            "Epoch 88/300\n",
            "10/10 [==============================] - 0s 20ms/step - loss: 28779061.8182\n",
            "Epoch 89/300\n",
            "10/10 [==============================] - 0s 21ms/step - loss: 26262918.0000\n",
            "Epoch 90/300\n",
            "10/10 [==============================] - 0s 22ms/step - loss: 32161446.0000\n",
            "Epoch 91/300\n",
            "10/10 [==============================] - 0s 21ms/step - loss: 29227846.0000\n",
            "Epoch 92/300\n",
            "10/10 [==============================] - 0s 23ms/step - loss: 36470045.6364\n",
            "Epoch 93/300\n",
            "10/10 [==============================] - 0s 21ms/step - loss: 30167798.1818\n",
            "Epoch 94/300\n",
            "10/10 [==============================] - 0s 23ms/step - loss: 35544844.1818\n",
            "Epoch 95/300\n",
            "10/10 [==============================] - 0s 21ms/step - loss: 33159178.7273\n",
            "Epoch 96/300\n",
            "10/10 [==============================] - 0s 22ms/step - loss: 40208045.8182\n",
            "Epoch 97/300\n",
            "10/10 [==============================] - 0s 23ms/step - loss: 34477001.2727\n",
            "Epoch 98/300\n",
            "10/10 [==============================] - 0s 21ms/step - loss: 33798660.1818\n",
            "Epoch 99/300\n",
            "10/10 [==============================] - 0s 19ms/step - loss: 29620022.3636\n",
            "Epoch 100/300\n",
            "10/10 [==============================] - 0s 19ms/step - loss: 31126561.8182\n",
            "Epoch 101/300\n",
            "10/10 [==============================] - 0s 19ms/step - loss: 31974657.2727\n",
            "Epoch 102/300\n",
            "10/10 [==============================] - 0s 20ms/step - loss: 32154975.0909\n",
            "Epoch 103/300\n",
            "10/10 [==============================] - 0s 19ms/step - loss: 28389654.0000\n",
            "Epoch 104/300\n",
            "10/10 [==============================] - 0s 19ms/step - loss: 33069723.4545\n",
            "Epoch 105/300\n",
            "10/10 [==============================] - 0s 20ms/step - loss: 31957372.5455\n",
            "Epoch 106/300\n",
            "10/10 [==============================] - 0s 20ms/step - loss: 27588416.0909\n",
            "Epoch 107/300\n",
            "10/10 [==============================] - 0s 20ms/step - loss: 30480780.5455\n",
            "Epoch 108/300\n",
            "10/10 [==============================] - 0s 20ms/step - loss: 28199337.2727\n",
            "Epoch 109/300\n",
            "10/10 [==============================] - 0s 19ms/step - loss: 31397298.0000\n",
            "Epoch 110/300\n",
            "10/10 [==============================] - 0s 19ms/step - loss: 26782908.3636\n",
            "Epoch 111/300\n",
            "10/10 [==============================] - 0s 19ms/step - loss: 31794605.2727\n",
            "Epoch 112/300\n",
            "10/10 [==============================] - 0s 21ms/step - loss: 27799207.8182\n",
            "Epoch 113/300\n",
            "10/10 [==============================] - 0s 18ms/step - loss: 24684201.0909\n",
            "Epoch 114/300\n",
            "10/10 [==============================] - 0s 18ms/step - loss: 22221197.1818\n",
            "Epoch 115/300\n",
            "10/10 [==============================] - 0s 20ms/step - loss: 27193853.8182\n",
            "Epoch 116/300\n",
            "10/10 [==============================] - 0s 20ms/step - loss: 29252781.0909\n",
            "Epoch 117/300\n",
            "10/10 [==============================] - 0s 20ms/step - loss: 26824610.1818\n",
            "Epoch 118/300\n",
            "10/10 [==============================] - 0s 21ms/step - loss: 24264266.1818\n",
            "Epoch 119/300\n",
            "10/10 [==============================] - 0s 21ms/step - loss: 22445439.7273\n",
            "Epoch 120/300\n",
            "10/10 [==============================] - 0s 22ms/step - loss: 24616176.5455\n",
            "Epoch 121/300\n",
            "10/10 [==============================] - 0s 24ms/step - loss: 23091228.7273\n",
            "Epoch 122/300\n",
            "10/10 [==============================] - 0s 22ms/step - loss: 27421856.1818\n",
            "Epoch 123/300\n",
            "10/10 [==============================] - 0s 21ms/step - loss: 24577265.6364\n",
            "Epoch 124/300\n",
            "10/10 [==============================] - 0s 20ms/step - loss: 28839424.1818\n",
            "Epoch 125/300\n",
            "10/10 [==============================] - 0s 19ms/step - loss: 21012053.8182\n",
            "Epoch 126/300\n",
            "10/10 [==============================] - 0s 19ms/step - loss: 26854918.0000\n",
            "Epoch 127/300\n",
            "10/10 [==============================] - 0s 19ms/step - loss: 26653630.7273\n",
            "Epoch 128/300\n",
            "10/10 [==============================] - 0s 19ms/step - loss: 26884603.4545\n",
            "Epoch 129/300\n",
            "10/10 [==============================] - 0s 20ms/step - loss: 27185401.4545\n",
            "Epoch 130/300\n",
            "10/10 [==============================] - 0s 20ms/step - loss: 27528776.3636\n",
            "Epoch 131/300\n",
            "10/10 [==============================] - 0s 19ms/step - loss: 24832436.0000\n",
            "Epoch 132/300\n",
            "10/10 [==============================] - 0s 21ms/step - loss: 26908386.3636\n",
            "Epoch 133/300\n",
            "10/10 [==============================] - 0s 20ms/step - loss: 24608587.4545\n",
            "Epoch 134/300\n",
            "10/10 [==============================] - 0s 21ms/step - loss: 24450322.5455\n",
            "Epoch 135/300\n",
            "10/10 [==============================] - 0s 22ms/step - loss: 23762367.8182\n",
            "Epoch 136/300\n",
            "10/10 [==============================] - 0s 22ms/step - loss: 26265602.7273\n",
            "Epoch 137/300\n",
            "10/10 [==============================] - 0s 22ms/step - loss: 24715915.8182\n",
            "Epoch 138/300\n",
            "10/10 [==============================] - 0s 20ms/step - loss: 28248293.4545\n",
            "Epoch 139/300\n",
            "10/10 [==============================] - 0s 19ms/step - loss: 22961620.9091\n",
            "Epoch 140/300\n",
            "10/10 [==============================] - 0s 21ms/step - loss: 22002673.4545\n",
            "Epoch 141/300\n",
            "10/10 [==============================] - 0s 20ms/step - loss: 21931327.3636\n",
            "Epoch 142/300\n",
            "10/10 [==============================] - 0s 21ms/step - loss: 25560843.2727\n",
            "Epoch 143/300\n",
            "10/10 [==============================] - 0s 19ms/step - loss: 22405473.2727\n",
            "Epoch 144/300\n",
            "10/10 [==============================] - 0s 21ms/step - loss: 22021918.1818\n",
            "Epoch 145/300\n",
            "10/10 [==============================] - 0s 20ms/step - loss: 21461249.6364\n",
            "Epoch 146/300\n",
            "10/10 [==============================] - 0s 20ms/step - loss: 43885106.1818\n",
            "Epoch 147/300\n",
            "10/10 [==============================] - 0s 19ms/step - loss: 23130778.0000\n",
            "Epoch 148/300\n",
            "10/10 [==============================] - 0s 19ms/step - loss: 21010617.1818\n",
            "Epoch 149/300\n",
            "10/10 [==============================] - 0s 22ms/step - loss: 26298455.4545\n",
            "Epoch 150/300\n",
            "10/10 [==============================] - 0s 20ms/step - loss: 22527159.0909\n",
            "Epoch 151/300\n",
            "10/10 [==============================] - 0s 20ms/step - loss: 27152586.7273\n",
            "Epoch 152/300\n",
            "10/10 [==============================] - 0s 19ms/step - loss: 24065881.4545\n",
            "Epoch 153/300\n",
            "10/10 [==============================] - 0s 19ms/step - loss: 21249442.3636\n",
            "Epoch 154/300\n",
            "10/10 [==============================] - 0s 19ms/step - loss: 21846522.9091\n",
            "Epoch 155/300\n",
            "10/10 [==============================] - 0s 20ms/step - loss: 18738160.7273\n",
            "Epoch 156/300\n",
            "10/10 [==============================] - 0s 20ms/step - loss: 21245449.0909\n",
            "Epoch 157/300\n",
            "10/10 [==============================] - 0s 19ms/step - loss: 20121129.1818\n",
            "Epoch 158/300\n",
            "10/10 [==============================] - 0s 19ms/step - loss: 21988919.4545\n",
            "Epoch 159/300\n",
            "10/10 [==============================] - 0s 23ms/step - loss: 19528428.9091\n",
            "Epoch 160/300\n",
            "10/10 [==============================] - 0s 22ms/step - loss: 20341243.4545\n",
            "Epoch 161/300\n",
            "10/10 [==============================] - 0s 24ms/step - loss: 17798918.2727\n",
            "Epoch 162/300\n",
            "10/10 [==============================] - 0s 21ms/step - loss: 20208271.0909\n",
            "Epoch 163/300\n",
            "10/10 [==============================] - 0s 21ms/step - loss: 18747128.0909\n",
            "Epoch 164/300\n",
            "10/10 [==============================] - 0s 19ms/step - loss: 21587168.5455\n",
            "Epoch 165/300\n",
            "10/10 [==============================] - 0s 20ms/step - loss: 20401399.0000\n",
            "Epoch 166/300\n",
            "10/10 [==============================] - 0s 19ms/step - loss: 22087285.2727\n",
            "Epoch 167/300\n",
            "10/10 [==============================] - 0s 20ms/step - loss: 19640590.5455\n",
            "Epoch 168/300\n",
            "10/10 [==============================] - 0s 20ms/step - loss: 19894324.0909\n",
            "Epoch 169/300\n",
            "10/10 [==============================] - 0s 21ms/step - loss: 20903632.9091\n",
            "Epoch 170/300\n",
            "10/10 [==============================] - 0s 21ms/step - loss: 20315014.3636\n",
            "Epoch 171/300\n",
            "10/10 [==============================] - 0s 19ms/step - loss: 24740514.7273\n",
            "Epoch 172/300\n",
            "10/10 [==============================] - 0s 20ms/step - loss: 23381332.3636\n",
            "Epoch 173/300\n",
            "10/10 [==============================] - 0s 21ms/step - loss: 19621390.5455\n",
            "Epoch 174/300\n",
            "10/10 [==============================] - 0s 20ms/step - loss: 19732737.2727\n",
            "Epoch 175/300\n",
            "10/10 [==============================] - 0s 22ms/step - loss: 19034243.2727\n",
            "Epoch 176/300\n",
            "10/10 [==============================] - 0s 22ms/step - loss: 20975192.0000\n",
            "Epoch 177/300\n",
            "10/10 [==============================] - 0s 21ms/step - loss: 21175995.4545\n",
            "Epoch 178/300\n",
            "10/10 [==============================] - 0s 20ms/step - loss: 23952296.0000\n",
            "Epoch 179/300\n",
            "10/10 [==============================] - 0s 20ms/step - loss: 22820578.7273\n",
            "Epoch 180/300\n",
            "10/10 [==============================] - 0s 23ms/step - loss: 22491211.0909\n",
            "Epoch 181/300\n",
            "10/10 [==============================] - 0s 19ms/step - loss: 22675683.4545\n",
            "Epoch 182/300\n",
            "10/10 [==============================] - 0s 20ms/step - loss: 24612134.1818\n",
            "Epoch 183/300\n",
            "10/10 [==============================] - 0s 19ms/step - loss: 22096207.0909\n",
            "Epoch 184/300\n",
            "10/10 [==============================] - 0s 20ms/step - loss: 18347747.2727\n",
            "Epoch 185/300\n",
            "10/10 [==============================] - 0s 21ms/step - loss: 17066479.9091\n",
            "Epoch 186/300\n",
            "10/10 [==============================] - 0s 21ms/step - loss: 25861476.7273\n",
            "Epoch 187/300\n",
            "10/10 [==============================] - 0s 22ms/step - loss: 20567294.8182\n",
            "Epoch 188/300\n",
            "10/10 [==============================] - 0s 23ms/step - loss: 19704756.3636\n",
            "Epoch 189/300\n",
            "10/10 [==============================] - 0s 23ms/step - loss: 19330358.7273\n",
            "Epoch 190/300\n",
            "10/10 [==============================] - 0s 23ms/step - loss: 20165542.0000\n",
            "Epoch 191/300\n",
            "10/10 [==============================] - 0s 22ms/step - loss: 19851491.4545\n",
            "Epoch 192/300\n",
            "10/10 [==============================] - 0s 22ms/step - loss: 16813986.1818\n",
            "Epoch 193/300\n",
            "10/10 [==============================] - 0s 23ms/step - loss: 21404216.7273\n",
            "Epoch 194/300\n",
            "10/10 [==============================] - 0s 23ms/step - loss: 21025432.3636\n",
            "Epoch 195/300\n",
            "10/10 [==============================] - 0s 23ms/step - loss: 18512407.2727\n",
            "Epoch 196/300\n",
            "10/10 [==============================] - 0s 20ms/step - loss: 20420168.3636\n",
            "Epoch 197/300\n",
            "10/10 [==============================] - 0s 20ms/step - loss: 17936414.1818\n",
            "Epoch 198/300\n",
            "10/10 [==============================] - 0s 21ms/step - loss: 26780873.6364\n",
            "Epoch 199/300\n",
            "10/10 [==============================] - 0s 20ms/step - loss: 19429135.6364\n",
            "Epoch 200/300\n",
            "10/10 [==============================] - 0s 20ms/step - loss: 23970054.9091\n",
            "Epoch 201/300\n",
            "10/10 [==============================] - 0s 22ms/step - loss: 22854572.0000\n",
            "Epoch 202/300\n",
            "10/10 [==============================] - 0s 22ms/step - loss: 20927308.5455\n",
            "Epoch 203/300\n",
            "10/10 [==============================] - 0s 24ms/step - loss: 21459448.5455\n",
            "Epoch 204/300\n",
            "10/10 [==============================] - 0s 23ms/step - loss: 21075736.3636\n",
            "Epoch 205/300\n",
            "10/10 [==============================] - 0s 21ms/step - loss: 19710345.0000\n",
            "Epoch 206/300\n",
            "10/10 [==============================] - 0s 21ms/step - loss: 18068116.1818\n",
            "Epoch 207/300\n",
            "10/10 [==============================] - 0s 20ms/step - loss: 21248689.2727\n",
            "Epoch 208/300\n",
            "10/10 [==============================] - 0s 21ms/step - loss: 19088036.3636\n",
            "Epoch 209/300\n",
            "10/10 [==============================] - 0s 21ms/step - loss: 20804237.2727\n",
            "Epoch 210/300\n",
            "10/10 [==============================] - 0s 22ms/step - loss: 19925896.5455\n",
            "Epoch 211/300\n",
            "10/10 [==============================] - 0s 24ms/step - loss: 19014035.0909\n",
            "Epoch 212/300\n",
            "10/10 [==============================] - 0s 22ms/step - loss: 21364974.7273\n",
            "Epoch 213/300\n",
            "10/10 [==============================] - 0s 23ms/step - loss: 17534148.0000\n",
            "Epoch 214/300\n",
            "10/10 [==============================] - 0s 22ms/step - loss: 29790072.0000\n",
            "Epoch 215/300\n",
            "10/10 [==============================] - 0s 23ms/step - loss: 30041949.4545\n",
            "Epoch 216/300\n",
            "10/10 [==============================] - 0s 21ms/step - loss: 26634070.3636\n",
            "Epoch 217/300\n",
            "10/10 [==============================] - 0s 23ms/step - loss: 28282053.4545\n",
            "Epoch 218/300\n",
            "10/10 [==============================] - 0s 21ms/step - loss: 26419590.0000\n",
            "Epoch 219/300\n",
            "10/10 [==============================] - 0s 21ms/step - loss: 23567438.0000\n",
            "Epoch 220/300\n",
            "10/10 [==============================] - 0s 21ms/step - loss: 22689871.2727\n",
            "Epoch 221/300\n",
            "10/10 [==============================] - 0s 21ms/step - loss: 24451925.0909\n",
            "Epoch 222/300\n",
            "10/10 [==============================] - 0s 23ms/step - loss: 24765910.5455\n",
            "Epoch 223/300\n",
            "10/10 [==============================] - 0s 21ms/step - loss: 24885884.9091\n",
            "Epoch 224/300\n",
            "10/10 [==============================] - 0s 22ms/step - loss: 23382659.0909\n",
            "Epoch 225/300\n",
            "10/10 [==============================] - 0s 21ms/step - loss: 25284747.0909\n",
            "Epoch 226/300\n",
            "10/10 [==============================] - 0s 25ms/step - loss: 22948622.3636\n",
            "Epoch 227/300\n",
            "10/10 [==============================] - 0s 21ms/step - loss: 22996450.3636\n",
            "Epoch 228/300\n",
            "10/10 [==============================] - 0s 21ms/step - loss: 26558921.8182\n",
            "Epoch 229/300\n",
            "10/10 [==============================] - 0s 19ms/step - loss: 25956320.7273\n",
            "Epoch 230/300\n",
            "10/10 [==============================] - 0s 20ms/step - loss: 21505680.5455\n",
            "Epoch 231/300\n",
            "10/10 [==============================] - 0s 19ms/step - loss: 20325312.2727\n",
            "Epoch 232/300\n",
            "10/10 [==============================] - 0s 20ms/step - loss: 21730561.1818\n",
            "Epoch 233/300\n",
            "10/10 [==============================] - 0s 22ms/step - loss: 23815131.8182\n",
            "Epoch 234/300\n",
            "10/10 [==============================] - 0s 22ms/step - loss: 24196209.0909\n",
            "Epoch 235/300\n",
            "10/10 [==============================] - 0s 25ms/step - loss: 20365653.0000\n",
            "Epoch 236/300\n",
            "10/10 [==============================] - 0s 22ms/step - loss: 22538795.4545\n",
            "Epoch 237/300\n",
            "10/10 [==============================] - 0s 24ms/step - loss: 22648111.8182\n",
            "Epoch 238/300\n",
            "10/10 [==============================] - 0s 21ms/step - loss: 21797501.2727\n",
            "Epoch 239/300\n",
            "10/10 [==============================] - 0s 22ms/step - loss: 20812696.0000\n",
            "Epoch 240/300\n",
            "10/10 [==============================] - 0s 21ms/step - loss: 22886522.1818\n",
            "Epoch 241/300\n",
            "10/10 [==============================] - 0s 21ms/step - loss: 23547499.2727\n",
            "Epoch 242/300\n",
            "10/10 [==============================] - 0s 20ms/step - loss: 23520798.5455\n",
            "Epoch 243/300\n",
            "10/10 [==============================] - 0s 19ms/step - loss: 21000235.6364\n",
            "Epoch 244/300\n",
            "10/10 [==============================] - 0s 20ms/step - loss: 20483395.6364\n",
            "Epoch 245/300\n",
            "10/10 [==============================] - 0s 19ms/step - loss: 23486131.0909\n",
            "Epoch 246/300\n",
            "10/10 [==============================] - 0s 20ms/step - loss: 25222168.1818\n",
            "Epoch 247/300\n",
            "10/10 [==============================] - 0s 19ms/step - loss: 23849530.0000\n",
            "Epoch 248/300\n",
            "10/10 [==============================] - 0s 21ms/step - loss: 21299447.2727\n",
            "Epoch 249/300\n",
            "10/10 [==============================] - 0s 20ms/step - loss: 18266338.0000\n",
            "Epoch 250/300\n",
            "10/10 [==============================] - 0s 20ms/step - loss: 19138568.2727\n",
            "Epoch 251/300\n",
            "10/10 [==============================] - 0s 19ms/step - loss: 21037414.9091\n",
            "Epoch 252/300\n",
            "10/10 [==============================] - 0s 25ms/step - loss: 20881250.6364\n",
            "Epoch 253/300\n",
            "10/10 [==============================] - 0s 22ms/step - loss: 20273326.1818\n",
            "Epoch 254/300\n",
            "10/10 [==============================] - 0s 24ms/step - loss: 22763376.1818\n",
            "Epoch 255/300\n",
            "10/10 [==============================] - 0s 22ms/step - loss: 22374341.4545\n",
            "Epoch 256/300\n",
            "10/10 [==============================] - 0s 23ms/step - loss: 21595786.8182\n",
            "Epoch 257/300\n",
            "10/10 [==============================] - 0s 19ms/step - loss: 18235171.5455\n",
            "Epoch 258/300\n",
            "10/10 [==============================] - 0s 22ms/step - loss: 21455460.1818\n",
            "Epoch 259/300\n",
            "10/10 [==============================] - 0s 19ms/step - loss: 22517042.5455\n",
            "Epoch 260/300\n",
            "10/10 [==============================] - 0s 22ms/step - loss: 23111326.9091\n",
            "Epoch 261/300\n",
            "10/10 [==============================] - 0s 19ms/step - loss: 21270362.7273\n",
            "Epoch 262/300\n",
            "10/10 [==============================] - 0s 20ms/step - loss: 20311389.9091\n",
            "Epoch 263/300\n",
            "10/10 [==============================] - 0s 20ms/step - loss: 18326615.0909\n",
            "Epoch 264/300\n",
            "10/10 [==============================] - 0s 20ms/step - loss: 21344630.7273\n",
            "Epoch 265/300\n",
            "10/10 [==============================] - 0s 20ms/step - loss: 22445060.0000\n",
            "Epoch 266/300\n",
            "10/10 [==============================] - 0s 19ms/step - loss: 19861265.3636\n",
            "Epoch 267/300\n",
            "10/10 [==============================] - 0s 21ms/step - loss: 17184959.1818\n",
            "Epoch 268/300\n",
            "10/10 [==============================] - 0s 20ms/step - loss: 21034675.4545\n",
            "Epoch 269/300\n",
            "10/10 [==============================] - 0s 20ms/step - loss: 22224502.9091\n",
            "Epoch 270/300\n",
            "10/10 [==============================] - 0s 23ms/step - loss: 22482488.1818\n",
            "Epoch 271/300\n",
            "10/10 [==============================] - 0s 21ms/step - loss: 19949967.2727\n",
            "Epoch 272/300\n",
            "10/10 [==============================] - 0s 23ms/step - loss: 19612616.4545\n",
            "Epoch 273/300\n",
            "10/10 [==============================] - 0s 23ms/step - loss: 22490966.9091\n",
            "Epoch 274/300\n",
            "10/10 [==============================] - 0s 22ms/step - loss: 24387504.9091\n",
            "Epoch 275/300\n",
            "10/10 [==============================] - 0s 21ms/step - loss: 18111680.9091\n",
            "Epoch 276/300\n",
            "10/10 [==============================] - 0s 23ms/step - loss: 19764089.5455\n",
            "Epoch 277/300\n",
            "10/10 [==============================] - 0s 23ms/step - loss: 20855951.6364\n",
            "Epoch 278/300\n",
            "10/10 [==============================] - 0s 24ms/step - loss: 22257131.8182\n",
            "Epoch 279/300\n",
            "10/10 [==============================] - 0s 21ms/step - loss: 24881350.7273\n",
            "Epoch 280/300\n",
            "10/10 [==============================] - 0s 21ms/step - loss: 33635559.2727\n",
            "Epoch 281/300\n",
            "10/10 [==============================] - 0s 19ms/step - loss: 24837476.9091\n",
            "Epoch 282/300\n",
            "10/10 [==============================] - 0s 21ms/step - loss: 22443857.6364\n",
            "Epoch 283/300\n",
            "10/10 [==============================] - 0s 19ms/step - loss: 20364347.6364\n",
            "Epoch 284/300\n",
            "10/10 [==============================] - 0s 21ms/step - loss: 20837584.5455\n",
            "Epoch 285/300\n",
            "10/10 [==============================] - 0s 19ms/step - loss: 22993804.3636\n",
            "Epoch 286/300\n",
            "10/10 [==============================] - 0s 19ms/step - loss: 20798543.2727\n",
            "Epoch 287/300\n",
            "10/10 [==============================] - 0s 20ms/step - loss: 21526171.8182\n",
            "Epoch 288/300\n",
            "10/10 [==============================] - 0s 20ms/step - loss: 22404441.8182\n",
            "Epoch 289/300\n",
            "10/10 [==============================] - 0s 20ms/step - loss: 21796503.2727\n",
            "Epoch 290/300\n",
            "10/10 [==============================] - 0s 19ms/step - loss: 19979327.4545\n",
            "Epoch 291/300\n",
            "10/10 [==============================] - 0s 21ms/step - loss: 24315934.0000\n",
            "Epoch 292/300\n",
            "10/10 [==============================] - 0s 20ms/step - loss: 22531312.3636\n",
            "Epoch 293/300\n",
            "10/10 [==============================] - 0s 21ms/step - loss: 21513016.3636\n",
            "Epoch 294/300\n",
            "10/10 [==============================] - 0s 20ms/step - loss: 18567155.3636\n",
            "Epoch 295/300\n",
            "10/10 [==============================] - 0s 19ms/step - loss: 24930426.0000\n",
            "Epoch 296/300\n",
            "10/10 [==============================] - 0s 21ms/step - loss: 22537460.7273\n",
            "Epoch 297/300\n",
            "10/10 [==============================] - 0s 22ms/step - loss: 22267963.2727\n",
            "Epoch 298/300\n",
            "10/10 [==============================] - 0s 19ms/step - loss: 21444036.9091\n",
            "Epoch 299/300\n",
            "10/10 [==============================] - 0s 19ms/step - loss: 19095686.4545\n",
            "Epoch 300/300\n",
            "10/10 [==============================] - 0s 19ms/step - loss: 21596984.3636\n"
          ],
          "name": "stdout"
        },
        {
          "output_type": "execute_result",
          "data": {
            "text/plain": [
              "<tensorflow.python.keras.callbacks.History at 0x7f4579a46160>"
            ]
          },
          "metadata": {
            "tags": []
          },
          "execution_count": 10
        }
      ]
    },
    {
      "cell_type": "code",
      "metadata": {
        "colab": {
          "base_uri": "https://localhost:8080/"
        },
        "id": "nwb9XM5z3pzK",
        "outputId": "3ef1d51c-78d5-4483-874f-d3499c84cbae"
      },
      "source": [
        "# We will predict cases for next one day (lookback days=20)\r\n",
        "x_input=list_of_cases[len(list_of_cases)-20:len(list_of_cases)]\r\n",
        "x_input=np.array(x_input)\r\n",
        "n_features=1\r\n",
        "x_input = x_input.reshape((1, n_steps, n_features))\r\n",
        "yhat = model.predict(x_input, verbose=0)\r\n",
        "print('Input given:',x_input)\r\n",
        "print('Predicted Cases',yhat)\r\n",
        "#print(type(yhat))"
      ],
      "execution_count": 11,
      "outputs": [
        {
          "output_type": "stream",
          "text": [
            "Input given: [[[45882.]\n",
            "  [46232.]\n",
            "  [45209.]\n",
            "  [44059.]\n",
            "  [37975.]\n",
            "  [44376.]\n",
            "  [44489.]\n",
            "  [43082.]\n",
            "  [41322.]\n",
            "  [41810.]\n",
            "  [38772.]\n",
            "  [31118.]\n",
            "  [36604.]\n",
            "  [35551.]\n",
            "  [36595.]\n",
            "  [36652.]\n",
            "  [36011.]\n",
            "  [32981.]\n",
            "  [26567.]\n",
            "  [32080.]]]\n",
            "Predicted Cases [[30820.408]]\n"
          ],
          "name": "stdout"
        }
      ]
    },
    {
      "cell_type": "code",
      "metadata": {
        "id": "2YI1B5L75B-T",
        "colab": {
          "base_uri": "https://localhost:8080/"
        },
        "outputId": "a3873171-a8a5-47ab-c152-4e689062e21b"
      },
      "source": [
        "# demonstrate prediction for next 10 days\r\n",
        "x_input=list_of_cases[len(list_of_cases)-20:len(list_of_cases)]\r\n",
        "x_input=np.array(x_input)\r\n",
        "temp_input=list(x_input)\r\n",
        "lst_output=[]\r\n",
        "i=0\r\n",
        "while(i<10):\r\n",
        "    \r\n",
        "    if (len(temp_input)>20):\r\n",
        "        x_input=np.array(temp_input[1:])\r\n",
        "        #print(\"{} day input {}\".format(i,x_input))\r\n",
        "        #print(x_input)\r\n",
        "        x_input = x_input.reshape((1, n_steps, n_features))\r\n",
        "        #print(x_input)\r\n",
        "        yhat = model.predict(x_input, verbose=0)\r\n",
        "        print(\"{} day output {}\".format(i,yhat))\r\n",
        "        temp_input.append(yhat[0][0])\r\n",
        "        temp_input=temp_input[1:]\r\n",
        "        #print(temp_input)\r\n",
        "        lst_output.append(yhat[0][0])\r\n",
        "        i=i+1\r\n",
        "    else:\r\n",
        "        x_input = x_input.reshape((1, n_steps, n_features))\r\n",
        "        yhat = model.predict(x_input, verbose=0)\r\n",
        "        print(yhat[0])\r\n",
        "        temp_input.append(yhat[0][0])\r\n",
        "        lst_output.append(yhat[0][0])\r\n",
        "        i=i+1\r\n",
        "    \r\n",
        "\r\n",
        "#print(lst_output)"
      ],
      "execution_count": 22,
      "outputs": [
        {
          "output_type": "stream",
          "text": [
            "[30820.408]\n",
            "1 day output [[28039.262]]\n",
            "2 day output [[27128.832]]\n",
            "3 day output [[27346.344]]\n",
            "4 day output [[27534.3]]\n",
            "5 day output [[27050.656]]\n",
            "6 day output [[25494.773]]\n",
            "7 day output [[23731.414]]\n",
            "8 day output [[22365.756]]\n",
            "9 day output [[21192.77]]\n"
          ],
          "name": "stdout"
        }
      ]
    },
    {
      "cell_type": "code",
      "metadata": {
        "id": "j7marqZJLgk9"
      },
      "source": [
        "import matplotlib.pyplot as plt"
      ],
      "execution_count": 15,
      "outputs": []
    },
    {
      "cell_type": "code",
      "metadata": {
        "colab": {
          "base_uri": "https://localhost:8080/",
          "height": 283
        },
        "id": "pFqoJggqLh7q",
        "outputId": "f8c84023-8840-48e8-bf60-1b5d71dc073c"
      },
      "source": [
        "day_new=np.arange(1,10)\r\n",
        "day_pred=np.arange(10,20)\r\n",
        "plt.plot(day_new,list_of_cases[len(list_of_cases)-9:len(list_of_cases)])\r\n",
        "plt.plot(day_pred,lst_output)"
      ],
      "execution_count": 20,
      "outputs": [
        {
          "output_type": "execute_result",
          "data": {
            "text/plain": [
              "[<matplotlib.lines.Line2D at 0x7f457639a9e8>]"
            ]
          },
          "metadata": {
            "tags": []
          },
          "execution_count": 20
        },
        {
          "output_type": "display_data",
          "data": {
            "image/png": "[encoded data removed]",
            "text/plain": [
              "<Figure size 432x288 with 1 Axes>"
            ]
          },
          "metadata": {
            "tags": [],
            "needs_background": "light"
          }
        }
      ]
    }
  ]
}