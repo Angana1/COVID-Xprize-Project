{
  "nbformat": 4,
  "nbformat_minor": 0,
  "metadata": {
    "colab": {
      "name": "PhasewiseLSTM_Fast.ipynb",
      "provenance": []
    },
    "kernelspec": {
      "name": "python3",
      "display_name": "Python 3"
    }
  },
  "cells": [
    {
      "cell_type": "code",
      "metadata": {
        "id": "tWOwV4FJ6xCW"
      },
      "source": [
        ""
      ],
      "execution_count": null,
      "outputs": []
    },
    {
      "cell_type": "code",
      "metadata": {
        "id": "Mart7B1UHlXM"
      },
      "source": [
        "import numpy as np\n",
        "import tensorflow\n",
        "from sklearn.metrics import accuracy_score\n",
        "#from tensorflow import set_random_seed\n",
        "from keras.models import load_model\n",
        "from keras.layers import Input, Embedding, LSTM, Dense,Concatenate,Lambda\n",
        "from keras.models import Model\n",
        "import keras\n",
        "from keras import backend as K\n",
        "from keras.layers import Dense, Activation, Flatten,TimeDistributed,Dropout,Bidirectional\n",
        "from keras.layers import RepeatVector,merge,Permute,GlobalMaxPool1D\n",
        "#from attention_utils import get_activations, get_data_recurrent\n",
        "from keras.callbacks import EarlyStopping\n",
        "import _pickle as cPickle\n",
        "np.random.seed(123)\n",
        "tensorflow.random.set_seed(2)\n",
        "from sklearn.preprocessing import MinMaxScaler\n",
        "import pandas as pd\n",
        "import requests"
      ],
      "execution_count": null,
      "outputs": []
    },
    {
      "cell_type": "code",
      "metadata": {
        "colab": {
          "base_uri": "https://localhost:8080/",
          "height": 197
        },
        "id": "UWZIj08JIKvn",
        "outputId": "81996870-cedd-4583-9496-d76a25e003f9"
      },
      "source": [
        "df_newfile=pd.read_csv(\"/content/new_file (2).csv\")\n",
        "df_newfile.head()"
      ],
      "execution_count": null,
      "outputs": [
        {
          "output_type": "execute_result",
          "data": {
            "text/html": [
              "<div>\n",
              "<style scoped>\n",
              "    .dataframe tbody tr th:only-of-type {\n",
              "        vertical-align: middle;\n",
              "    }\n",
              "\n",
              "    .dataframe tbody tr th {\n",
              "        vertical-align: top;\n",
              "    }\n",
              "\n",
              "    .dataframe thead th {\n",
              "        text-align: right;\n",
              "    }\n",
              "</style>\n",
              "<table border=\"1\" class=\"dataframe\">\n",
              "  <thead>\n",
              "    <tr style=\"text-align: right;\">\n",
              "      <th></th>\n",
              "      <th>Country</th>\n",
              "      <th>Slow</th>\n",
              "      <th>Moderate</th>\n",
              "      <th>Fast</th>\n",
              "    </tr>\n",
              "  </thead>\n",
              "  <tbody>\n",
              "    <tr>\n",
              "      <th>0</th>\n",
              "      <td>Aruba</td>\n",
              "      <td>0</td>\n",
              "      <td>2</td>\n",
              "      <td>1</td>\n",
              "    </tr>\n",
              "    <tr>\n",
              "      <th>1</th>\n",
              "      <td>Afghanistan</td>\n",
              "      <td>0</td>\n",
              "      <td>2</td>\n",
              "      <td>1</td>\n",
              "    </tr>\n",
              "    <tr>\n",
              "      <th>2</th>\n",
              "      <td>Angola</td>\n",
              "      <td>0</td>\n",
              "      <td>2</td>\n",
              "      <td>1</td>\n",
              "    </tr>\n",
              "    <tr>\n",
              "      <th>3</th>\n",
              "      <td>Albania</td>\n",
              "      <td>0</td>\n",
              "      <td>1</td>\n",
              "      <td>2</td>\n",
              "    </tr>\n",
              "    <tr>\n",
              "      <th>4</th>\n",
              "      <td>Andorra</td>\n",
              "      <td>1</td>\n",
              "      <td>0</td>\n",
              "      <td>2</td>\n",
              "    </tr>\n",
              "  </tbody>\n",
              "</table>\n",
              "</div>"
            ],
            "text/plain": [
              "       Country  Slow  Moderate  Fast\n",
              "0        Aruba     0         2     1\n",
              "1  Afghanistan     0         2     1\n",
              "2       Angola     0         2     1\n",
              "3      Albania     0         1     2\n",
              "4      Andorra     1         0     2"
            ]
          },
          "metadata": {
            "tags": []
          },
          "execution_count": 5
        }
      ]
    },
    {
      "cell_type": "code",
      "metadata": {
        "colab": {
          "base_uri": "https://localhost:8080/"
        },
        "id": "bsdbWyM0IwWm",
        "outputId": "9653715b-efc2-41d1-caac-1d1ec25224bd"
      },
      "source": [
        "# create an Empty DataFrame\n",
        "df_train = pd.DataFrame(columns = ['SN', 'Date', 'Confirmed Cases','Daily Cases','Country']) \n",
        "\n",
        "for ind in df_newfile.index:\n",
        "  countryname=df_newfile['Country'][ind]\n",
        "  slowphase=df_newfile['Fast'][ind]\n",
        "  #df_slow stores SN, Date, ConfirmedCases\n",
        "  dfslow=pd.read_csv('/content/'+countryname+'.csv_split'+str(slowphase)+'.csv')\n",
        "  #we add a column with country name and another one with daily cases\n",
        "  dfslow['CountryName']=countryname\n",
        "  dfslow['Daily Cases'] = dfslow['Confirmed Cases'].diff().fillna(0)\n",
        "  \n",
        "  if (countryname=='Japan' or countryname=='India' or countryname=='Indonesia' or countryname=='United States' or countryname=='Brazil'):\n",
        "    dfslow=dfslow[0:len(dfslow.index)-17]\n",
        "  \n",
        "  #now we add this to Train data set\n",
        "  for ind2 in dfslow.index:\n",
        "    df_train = df_train.append({'SN' :dfslow['SN'][ind2],'Date':dfslow['Date'][ind2], 'Confirmed Cases' :dfslow['Confirmed Cases'][ind2],'Daily Cases':dfslow['Daily Cases'][ind2],'Country':countryname}, ignore_index = True)\n",
        "  #df_train.append(dfslow, ignore_index=True)\n",
        "  #del dfslow\n",
        "\n",
        "\n",
        "print(df_train)\n",
        "\n"
      ],
      "execution_count": null,
      "outputs": [
        {
          "output_type": "stream",
          "text": [
            "          SN      Date  Confirmed Cases  Daily Cases       Country\n",
            "0        216  20200804            132.0          0.0         Aruba\n",
            "1        217  20200805            171.0         39.0         Aruba\n",
            "2        218  20200806            263.0         92.0         Aruba\n",
            "3        219  20200807            396.0        133.0         Aruba\n",
            "4        220  20200808            509.0        113.0         Aruba\n",
            "...      ...       ...              ...          ...           ...\n",
            "10717  90606  20200804         521318.0       4456.0  South Africa\n",
            "10718  90607  20200805         529877.0       8559.0  South Africa\n",
            "10719  90608  20200806         538184.0       8307.0  South Africa\n",
            "10720  90609  20200807         545476.0       7292.0  South Africa\n",
            "10721  90610  20200808         553188.0       7712.0  South Africa\n",
            "\n",
            "[10722 rows x 5 columns]\n"
          ],
          "name": "stdout"
        }
      ]
    },
    {
      "cell_type": "code",
      "metadata": {
        "id": "dJcVv_7UUQmc"
      },
      "source": [
        "df_train.to_csv('df_train.csv')"
      ],
      "execution_count": null,
      "outputs": []
    },
    {
      "cell_type": "code",
      "metadata": {
        "colab": {
          "base_uri": "https://localhost:8080/"
        },
        "id": "SjUygEguVD6F",
        "outputId": "b560bcd6-2fdd-47c2-c805-add3e7774034"
      },
      "source": [
        "X_train=[]\n",
        "Y_train=[]\n",
        "\n",
        "#now we divide df_train to X_train and Y_train\n",
        "\n",
        "#for every country in df_newfile\n",
        "for ind in df_newfile.index:\n",
        "  countryname=df_newfile['Country'][ind]\n",
        "  \n",
        "  for ind2 in dfslow.index:\n",
        "    df_g=df_train[df_train['Country']==countryname]\n",
        "    df_g = df_g[df_g['Daily Cases']>0]\n",
        "    df_g=df_g['Daily Cases']\n",
        "    data=df_g.values\n",
        "    for i in range(0,len(data)):\n",
        "        if i+17<=len(data):\n",
        "            X_train.append(data[i:i+10])\n",
        "            Y_train.append(data[i+10:i+17])\n",
        "    \n",
        "X_train=np.array(X_train)\n",
        "Y_train=np.array(Y_train)\n",
        "print(X_train)\n",
        "print(Y_train)\n",
        "print(len(X_train))\n",
        "print(len(Y_train))"
      ],
      "execution_count": null,
      "outputs": [
        {
          "output_type": "stream",
          "text": [
            "[[   39.    92.   133. ...    81.    96.    79.]\n",
            " [   92.   133.   113. ...    96.    79.    75.]\n",
            " [  133.   113.    54. ...    79.    75.    54.]\n",
            " ...\n",
            " [ 8170. 13150. 13104. ...  7232. 11362. 11046.]\n",
            " [13150. 13104. 13944. ... 11362. 11046. 11014.]\n",
            " [13104. 13944. 12204. ... 11046. 11014. 10107.]]\n",
            "[[   75.    54.    19. ...    91.    91.    77.]\n",
            " [   54.    19.    84. ...    91.    77.    70.]\n",
            " [   19.    84.    91. ...    77.    70.    34.]\n",
            " ...\n",
            " [11014. 10107.  8195. ...  4456.  8559.  8307.]\n",
            " [10107.  8195.  5377. ...  8559.  8307.  7292.]\n",
            " [ 8195.  5377.  4456. ...  8307.  7292.  7712.]]\n",
            "322740\n",
            "322740\n"
          ],
          "name": "stdout"
        }
      ]
    },
    {
      "cell_type": "code",
      "metadata": {
        "colab": {
          "base_uri": "https://localhost:8080/"
        },
        "id": "ktBovm_I-VAz",
        "outputId": "afc74627-c223-4393-c09f-d630b9e7f802"
      },
      "source": [
        "#scaling the data\n",
        "scaler = MinMaxScaler(feature_range=(0, 1))\n",
        "data=df_train['Confirmed Cases'].values\n",
        "#print(data.shape)\n",
        "data=data.reshape((len(data),1))\n",
        "scaler.fit(data)\n",
        "X_train= scaler.transform(X_train)\n",
        "Y_train=scaler.transform(Y_train)\n",
        "\n",
        "X_train=X_train.reshape((len(X_train),10,1))\n",
        "print(X_train.shape,Y_train.shape)\n"
      ],
      "execution_count": null,
      "outputs": [
        {
          "output_type": "stream",
          "text": [
            "(322740, 10, 1) (322740, 7)\n"
          ],
          "name": "stdout"
        }
      ]
    },
    {
      "cell_type": "code",
      "metadata": {
        "colab": {
          "base_uri": "https://localhost:8080/"
        },
        "id": "TGkwslsFF5FF",
        "outputId": "76f9fcab-8200-4248-b66b-fb80d6e6eeb9"
      },
      "source": [
        "# LSTM architecture\n",
        "def model_arch():\n",
        "    lstm_hidden = 32\n",
        "    initi = keras.initializers.RandomNormal(mean=0.0, stddev=0.01, seed=123)\n",
        "    main_input = Input(shape=(10,1), name='main_input')\n",
        "    lstm_out = LSTM(lstm_hidden,kernel_initializer=initi, recurrent_initializer= initi, bias_initializer=initi)(main_input)\n",
        "    lstm_out = Dropout(0.45)(lstm_out)\n",
        "    main_output = (Dense(7, name='main_output')(lstm_out))\n",
        "#     Adam=keras.optimizers.Adam(lr=0.01, beta_1=0.9, beta_2=0.999, epsilon=None, decay=0.01, amsgrad=False)\n",
        "\n",
        "    model = Model(inputs=main_input, outputs=main_output)\n",
        "    model.compile(loss='mean_squared_error',optimizer='adam')\n",
        "    return model\n",
        "\n",
        "model = model_arch()\n",
        "earlystop=EarlyStopping(monitor='val_acc', min_delta=0, patience=4, verbose=0, mode='auto', baseline=None, restore_best_weights=True)\n",
        "callbacks_list = [earlystop]\n",
        "print(\"model is building\")\n",
        "bs = 128\n",
        "model.fit(batch_size=bs,epochs=10,x=X_train,y=Y_train, verbose=1,validation_split=0.1)\n",
        "print(\"model building done\")\n",
        "    "
      ],
      "execution_count": null,
      "outputs": [
        {
          "output_type": "stream",
          "text": [
            "model is building\n",
            "Epoch 1/10\n",
            "2270/2270 [==============================] - 20s 8ms/step - loss: 5.3720e-06 - val_loss: 8.2467e-07\n",
            "Epoch 2/10\n",
            "2270/2270 [==============================] - 17s 7ms/step - loss: 1.5245e-07 - val_loss: 6.1333e-07\n",
            "Epoch 3/10\n",
            "2270/2270 [==============================] - 17s 8ms/step - loss: 1.3744e-07 - val_loss: 6.0171e-07\n",
            "Epoch 4/10\n",
            "2270/2270 [==============================] - 17s 7ms/step - loss: 1.2948e-07 - val_loss: 7.0163e-07\n",
            "Epoch 5/10\n",
            "2270/2270 [==============================] - 17s 7ms/step - loss: 1.1861e-07 - val_loss: 5.7890e-07\n",
            "Epoch 6/10\n",
            "2270/2270 [==============================] - 17s 8ms/step - loss: 1.0965e-07 - val_loss: 6.9251e-07\n",
            "Epoch 7/10\n",
            "2270/2270 [==============================] - 17s 7ms/step - loss: 1.0665e-07 - val_loss: 6.6870e-07\n",
            "Epoch 8/10\n",
            "2270/2270 [==============================] - 15s 7ms/step - loss: 1.0273e-07 - val_loss: 4.2668e-07\n",
            "Epoch 9/10\n",
            "2270/2270 [==============================] - 16s 7ms/step - loss: 1.0142e-07 - val_loss: 4.9103e-07\n",
            "Epoch 10/10\n",
            "2270/2270 [==============================] - 15s 7ms/step - loss: 9.7560e-08 - val_loss: 4.4710e-07\n",
            "model building done\n"
          ],
          "name": "stdout"
        }
      ]
    },
    {
      "cell_type": "code",
      "metadata": {
        "colab": {
          "base_uri": "https://localhost:8080/"
        },
        "id": "XdX488tWK3nt",
        "outputId": "13deb2b3-cca9-4fda-97be-bbc26ff841d1"
      },
      "source": [
        "# Prepare test data\n",
        "X_test=[]\n",
        "Y_test=[]\n",
        "for ind in df_newfile.index:\n",
        "  countryname=df_newfile['Country'][ind]\n",
        "  slowphase=df_newfile['Fast'][ind]\n",
        "  #df_slow stores SN, Date, ConfirmedCases\n",
        "  df2=pd.read_csv('/content/'+countryname+'.csv_split'+str(slowphase)+'.csv')\n",
        "  #we add a column with country name and another one with daily cases\n",
        "  df2['CountryName']=countryname\n",
        "  df2['Daily Cases'] = df2['Confirmed Cases'].diff().fillna(0)\n",
        "  \n",
        "  if (countryname=='Japan' or countryname=='India' or countryname=='Indonesia' or countryname=='United States' or countryname=='Brazil'):\n",
        "    df2=df2[len(df2.index)-1-17:len(df2.index)]\n",
        "    df2 = df2[df2['Daily Cases']>0]\n",
        "    df3=df2['Daily Cases']\n",
        "    data2=df3.values\n",
        "    #print(len(data2),\"\\n\")\n",
        "    for i in range(0,len(data2)):\n",
        "        if i+17<=len(data2):\n",
        "            X_test.append(data2[i:i+10])\n",
        "            Y_test.append(data2[i+10:i+17])\n",
        "\n",
        "\n",
        "X_test=np.array(X_test)\n",
        "Y_test=np.array(Y_test)\n",
        "print(len(X_test),len(Y_test))"
      ],
      "execution_count": null,
      "outputs": [
        {
          "output_type": "stream",
          "text": [
            "10 10\n"
          ],
          "name": "stdout"
        }
      ]
    },
    {
      "cell_type": "code",
      "metadata": {
        "colab": {
          "base_uri": "https://localhost:8080/"
        },
        "id": "L5XZG_ltLCT8",
        "outputId": "d08f54e7-c518-4428-cc71-1f323e102b6b"
      },
      "source": [
        "X_test= scaler.transform(X_test)\n",
        "X_test=X_test.reshape((len(X_test),10,1))\n",
        "print(X_test.shape,Y_test.shape)"
      ],
      "execution_count": null,
      "outputs": [
        {
          "output_type": "stream",
          "text": [
            "(10, 10, 1) (10, 7)\n"
          ],
          "name": "stdout"
        }
      ]
    },
    {
      "cell_type": "code",
      "metadata": {
        "colab": {
          "base_uri": "https://localhost:8080/"
        },
        "id": "2F0RN0kYTgfY",
        "outputId": "16c78924-0cc3-44b5-c396-38cf05205cdc"
      },
      "source": [
        "# prediction\n",
        "pred=model.predict(x=X_test)\n",
        "print(pred.shape)\n",
        "#inverse scaling\n",
        "pred1=scaler.inverse_transform(pred)\n",
        "\n",
        "#Find RMSE\n",
        "from sklearn.metrics import mean_squared_error\n",
        "\n",
        "rms = mean_squared_error(Y_test, pred1)\n",
        "print(np.sqrt(rms))"
      ],
      "execution_count": null,
      "outputs": [
        {
          "output_type": "stream",
          "text": [
            "(10, 7)\n",
            "23621.53510056644\n"
          ],
          "name": "stdout"
        }
      ]
    }
  ]
}