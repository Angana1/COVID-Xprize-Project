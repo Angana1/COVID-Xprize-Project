{
  "nbformat": 4,
  "nbformat_minor": 0,
  "metadata": {
    "colab": {
      "name": "Copy of Copy of PhasewiseLSTM_Moderate (May 2021).ipynb",
      "provenance": []
    },
    "kernelspec": {
      "name": "python3",
      "display_name": "Python 3"
    }
  },
  "cells": [
    {
      "cell_type": "code",
      "metadata": {
        "id": "Mart7B1UHlXM"
      },
      "source": [
        "import numpy as np\n",
        "import tensorflow\n",
        "from sklearn.metrics import accuracy_score\n",
        "#from tensorflow import set_random_seed\n",
        "from keras.models import load_model\n",
        "from keras.layers import Input, Embedding, LSTM, Dense,Concatenate,Lambda\n",
        "from keras.models import Model\n",
        "import keras\n",
        "from keras import backend as K\n",
        "from keras.layers import Dense, Activation, Flatten,TimeDistributed,Dropout,Bidirectional\n",
        "from keras.layers import RepeatVector,merge,Permute,GlobalMaxPool1D\n",
        "#from attention_utils import get_activations, get_data_recurrent\n",
        "from keras.callbacks import EarlyStopping\n",
        "import _pickle as cPickle\n",
        "np.random.seed(123)\n",
        "tensorflow.random.set_seed(2)\n",
        "from sklearn.preprocessing import MinMaxScaler\n",
        "import pandas as pd\n",
        "import requests"
      ],
      "execution_count": null,
      "outputs": []
    },
    {
      "cell_type": "code",
      "metadata": {
        "colab": {
          "base_uri": "https://localhost:8080/",
          "height": 423
        },
        "id": "yoy2ggvEAhqy",
        "outputId": "4de9b51b-4151-4bb2-c4a4-b16a0bf62d78"
      },
      "source": [
        "# !ls \"/content/drive/\"\n",
        "from google.colab import drive\n",
        "drive.mount('/content/drive')\n",
        "df_newfile=pd.read_csv(\"/content/drive/MyDrive/phase_number.csv\")\n",
        "df_newfile=df_newfile[['Country'\t,'Slow'\t,'Moderate',\t'Fast']]\n",
        "df_newfile\n"
      ],
      "execution_count": null,
      "outputs": [
        {
          "output_type": "stream",
          "text": [
            "Mounted at /content/drive\n"
          ],
          "name": "stdout"
        },
        {
          "output_type": "execute_result",
          "data": {
            "text/html": [
              "<div>\n",
              "<style scoped>\n",
              "    .dataframe tbody tr th:only-of-type {\n",
              "        vertical-align: middle;\n",
              "    }\n",
              "\n",
              "    .dataframe tbody tr th {\n",
              "        vertical-align: top;\n",
              "    }\n",
              "\n",
              "    .dataframe thead th {\n",
              "        text-align: right;\n",
              "    }\n",
              "</style>\n",
              "<table border=\"1\" class=\"dataframe\">\n",
              "  <thead>\n",
              "    <tr style=\"text-align: right;\">\n",
              "      <th></th>\n",
              "      <th>Country</th>\n",
              "      <th>Slow</th>\n",
              "      <th>Moderate</th>\n",
              "      <th>Fast</th>\n",
              "    </tr>\n",
              "  </thead>\n",
              "  <tbody>\n",
              "    <tr>\n",
              "      <th>0</th>\n",
              "      <td>Afghanistan</td>\n",
              "      <td>0</td>\n",
              "      <td>2</td>\n",
              "      <td>1</td>\n",
              "    </tr>\n",
              "    <tr>\n",
              "      <th>1</th>\n",
              "      <td>Albania</td>\n",
              "      <td>0</td>\n",
              "      <td>1</td>\n",
              "      <td>2</td>\n",
              "    </tr>\n",
              "    <tr>\n",
              "      <th>2</th>\n",
              "      <td>Algeria</td>\n",
              "      <td>0</td>\n",
              "      <td>1</td>\n",
              "      <td>2</td>\n",
              "    </tr>\n",
              "    <tr>\n",
              "      <th>3</th>\n",
              "      <td>Andorra</td>\n",
              "      <td>1</td>\n",
              "      <td>0</td>\n",
              "      <td>2</td>\n",
              "    </tr>\n",
              "    <tr>\n",
              "      <th>4</th>\n",
              "      <td>Angola</td>\n",
              "      <td>0</td>\n",
              "      <td>2</td>\n",
              "      <td>1</td>\n",
              "    </tr>\n",
              "    <tr>\n",
              "      <th>...</th>\n",
              "      <td>...</td>\n",
              "      <td>...</td>\n",
              "      <td>...</td>\n",
              "      <td>...</td>\n",
              "    </tr>\n",
              "    <tr>\n",
              "      <th>176</th>\n",
              "      <td>Venezuela</td>\n",
              "      <td>2</td>\n",
              "      <td>1</td>\n",
              "      <td>0</td>\n",
              "    </tr>\n",
              "    <tr>\n",
              "      <th>177</th>\n",
              "      <td>Vietnam</td>\n",
              "      <td>1</td>\n",
              "      <td>2</td>\n",
              "      <td>0</td>\n",
              "    </tr>\n",
              "    <tr>\n",
              "      <th>178</th>\n",
              "      <td>Yemen</td>\n",
              "      <td>1</td>\n",
              "      <td>0</td>\n",
              "      <td>2</td>\n",
              "    </tr>\n",
              "    <tr>\n",
              "      <th>179</th>\n",
              "      <td>Zambia</td>\n",
              "      <td>1</td>\n",
              "      <td>2</td>\n",
              "      <td>0</td>\n",
              "    </tr>\n",
              "    <tr>\n",
              "      <th>180</th>\n",
              "      <td>Zimbabwe</td>\n",
              "      <td>1</td>\n",
              "      <td>2</td>\n",
              "      <td>0</td>\n",
              "    </tr>\n",
              "  </tbody>\n",
              "</table>\n",
              "<p>181 rows × 4 columns</p>\n",
              "</div>"
            ],
            "text/plain": [
              "         Country  Slow  Moderate  Fast\n",
              "0    Afghanistan     0         2     1\n",
              "1        Albania     0         1     2\n",
              "2        Algeria     0         1     2\n",
              "3        Andorra     1         0     2\n",
              "4         Angola     0         2     1\n",
              "..           ...   ...       ...   ...\n",
              "176    Venezuela     2         1     0\n",
              "177      Vietnam     1         2     0\n",
              "178        Yemen     1         0     2\n",
              "179       Zambia     1         2     0\n",
              "180     Zimbabwe     1         2     0\n",
              "\n",
              "[181 rows x 4 columns]"
            ]
          },
          "metadata": {
            "tags": []
          },
          "execution_count": 2
        }
      ]
    },
    {
      "cell_type": "code",
      "metadata": {
        "id": "UWZIj08JIKvn",
        "colab": {
          "base_uri": "https://localhost:8080/"
        },
        "outputId": "8d6ec54f-8c80-4af2-fad4-98a0bb51eb66"
      },
      "source": [
        "# create an Empty DataFrame\n",
        "df = pd.DataFrame(columns = [ 'Date', 'Confirmed Cases','Daily Cases','Country'])\n",
        "for ind in df_newfile.index:\n",
        "  countryname=df_newfile['Country'][ind]\n",
        "  moderatephase=df_newfile['Moderate'][ind]\n",
        "  \n",
        "  try:\n",
        "      dfmoderate = pd.read_csv(\n",
        "          '/content/drive/MyDrive/CountriesSplitted3Phases/' + countryname + '.csv_split' + str(moderatephase) + '.csv')\n",
        "      dfmoderate['CountryName'] = countryname\n",
        "      dfmoderate['Daily Cases'] = dfmoderate['Confirmed Cases'].diff().fillna(0)\n",
        "      if (len(dfmoderate) > 0):\n",
        "          # now we add this to Train data set\n",
        "          for ind2 in dfmoderate.index:\n",
        "              df = df.append({'Date': dfmoderate['Date'][ind2], 'Confirmed Cases': dfmoderate['Confirmed Cases'][ind2],\n",
        "                              'Daily Cases': dfmoderate['Daily Cases'][ind2], 'Country': countryname},\n",
        "                             ignore_index=True)\n",
        "  except:\n",
        "      print(\"some error\")\n",
        "      continue;\n"
      ],
      "execution_count": null,
      "outputs": [
        {
          "output_type": "stream",
          "text": [
            "some error\n"
          ],
          "name": "stdout"
        }
      ]
    },
    {
      "cell_type": "code",
      "metadata": {
        "id": "bsdbWyM0IwWm"
      },
      "source": [
        "mask = (df['Date'] < 20201101)\n",
        "df_train=df.loc[mask].reset_index(drop=True)\n",
        "mask1 = ((df['Date'] >= 20201101) & (df['Date'] < 20201118))\n",
        "df_test=df.loc[mask1].reset_index(drop=True)\n"
      ],
      "execution_count": null,
      "outputs": []
    },
    {
      "cell_type": "code",
      "metadata": {
        "id": "dJcVv_7UUQmc",
        "colab": {
          "base_uri": "https://localhost:8080/",
          "height": 407
        },
        "outputId": "3235cb85-8148-46f4-82da-ff42ae91a2e2"
      },
      "source": [
        "df_train"
      ],
      "execution_count": null,
      "outputs": [
        {
          "output_type": "execute_result",
          "data": {
            "text/html": [
              "<div>\n",
              "<style scoped>\n",
              "    .dataframe tbody tr th:only-of-type {\n",
              "        vertical-align: middle;\n",
              "    }\n",
              "\n",
              "    .dataframe tbody tr th {\n",
              "        vertical-align: top;\n",
              "    }\n",
              "\n",
              "    .dataframe thead th {\n",
              "        text-align: right;\n",
              "    }\n",
              "</style>\n",
              "<table border=\"1\" class=\"dataframe\">\n",
              "  <thead>\n",
              "    <tr style=\"text-align: right;\">\n",
              "      <th></th>\n",
              "      <th>Date</th>\n",
              "      <th>Confirmed Cases</th>\n",
              "      <th>Daily Cases</th>\n",
              "      <th>Country</th>\n",
              "    </tr>\n",
              "  </thead>\n",
              "  <tbody>\n",
              "    <tr>\n",
              "      <th>0</th>\n",
              "      <td>20200710</td>\n",
              "      <td>34184.0</td>\n",
              "      <td>0.0</td>\n",
              "      <td>Afghanistan</td>\n",
              "    </tr>\n",
              "    <tr>\n",
              "      <th>1</th>\n",
              "      <td>20200711</td>\n",
              "      <td>34356.0</td>\n",
              "      <td>172.0</td>\n",
              "      <td>Afghanistan</td>\n",
              "    </tr>\n",
              "    <tr>\n",
              "      <th>2</th>\n",
              "      <td>20200712</td>\n",
              "      <td>34441.0</td>\n",
              "      <td>85.0</td>\n",
              "      <td>Afghanistan</td>\n",
              "    </tr>\n",
              "    <tr>\n",
              "      <th>3</th>\n",
              "      <td>20200713</td>\n",
              "      <td>34595.0</td>\n",
              "      <td>154.0</td>\n",
              "      <td>Afghanistan</td>\n",
              "    </tr>\n",
              "    <tr>\n",
              "      <th>4</th>\n",
              "      <td>20200714</td>\n",
              "      <td>34730.0</td>\n",
              "      <td>135.0</td>\n",
              "      <td>Afghanistan</td>\n",
              "    </tr>\n",
              "    <tr>\n",
              "      <th>...</th>\n",
              "      <td>...</td>\n",
              "      <td>...</td>\n",
              "      <td>...</td>\n",
              "      <td>...</td>\n",
              "    </tr>\n",
              "    <tr>\n",
              "      <th>28735</th>\n",
              "      <td>20201027</td>\n",
              "      <td>8315.0</td>\n",
              "      <td>12.0</td>\n",
              "      <td>Zimbabwe</td>\n",
              "    </tr>\n",
              "    <tr>\n",
              "      <th>28736</th>\n",
              "      <td>20201028</td>\n",
              "      <td>8320.0</td>\n",
              "      <td>5.0</td>\n",
              "      <td>Zimbabwe</td>\n",
              "    </tr>\n",
              "    <tr>\n",
              "      <th>28737</th>\n",
              "      <td>20201029</td>\n",
              "      <td>8349.0</td>\n",
              "      <td>29.0</td>\n",
              "      <td>Zimbabwe</td>\n",
              "    </tr>\n",
              "    <tr>\n",
              "      <th>28738</th>\n",
              "      <td>20201030</td>\n",
              "      <td>8362.0</td>\n",
              "      <td>13.0</td>\n",
              "      <td>Zimbabwe</td>\n",
              "    </tr>\n",
              "    <tr>\n",
              "      <th>28739</th>\n",
              "      <td>20201031</td>\n",
              "      <td>8367.0</td>\n",
              "      <td>5.0</td>\n",
              "      <td>Zimbabwe</td>\n",
              "    </tr>\n",
              "  </tbody>\n",
              "</table>\n",
              "<p>28740 rows × 4 columns</p>\n",
              "</div>"
            ],
            "text/plain": [
              "           Date  Confirmed Cases  Daily Cases      Country\n",
              "0      20200710          34184.0          0.0  Afghanistan\n",
              "1      20200711          34356.0        172.0  Afghanistan\n",
              "2      20200712          34441.0         85.0  Afghanistan\n",
              "3      20200713          34595.0        154.0  Afghanistan\n",
              "4      20200714          34730.0        135.0  Afghanistan\n",
              "...         ...              ...          ...          ...\n",
              "28735  20201027           8315.0         12.0     Zimbabwe\n",
              "28736  20201028           8320.0          5.0     Zimbabwe\n",
              "28737  20201029           8349.0         29.0     Zimbabwe\n",
              "28738  20201030           8362.0         13.0     Zimbabwe\n",
              "28739  20201031           8367.0          5.0     Zimbabwe\n",
              "\n",
              "[28740 rows x 4 columns]"
            ]
          },
          "metadata": {
            "tags": []
          },
          "execution_count": 9
        }
      ]
    },
    {
      "cell_type": "code",
      "metadata": {
        "colab": {
          "base_uri": "https://localhost:8080/"
        },
        "id": "SjUygEguVD6F",
        "outputId": "6dc9fbc7-03f3-4f28-e5c6-94b161671646"
      },
      "source": [
        "X_train=[]\n",
        "Y_train=[]\n",
        "\n",
        "#now we divide df_train to X_train and Y_train\n",
        "\n",
        "#for every country in df_newfile\n",
        "for ind in df_newfile.index:\n",
        "  countryname=df_newfile['Country'][ind]\n",
        "  \n",
        "  # for ind2 in dfslow.index:\n",
        "  df_g=df_train[df_train['Country']==countryname]\n",
        "  df_g = df_g[df_g['Daily Cases']>0]\n",
        "  df_g=df_g['Daily Cases']\n",
        "  data=df_g.values\n",
        "  # print(data.shape)\n",
        "  for i in range(0,len(data)):\n",
        "    if i+16<=len(data):\n",
        "        X_train.append(data[i:i+10])\n",
        "        Y_train.append(data[i+9:i+16])\n",
        "    \n",
        "X_train=np.array(X_train)\n",
        "Y_train=np.array(Y_train)\n",
        "print(len(X_train))\n",
        "print(len(Y_train))\n",
        "X_train"
      ],
      "execution_count": null,
      "outputs": [
        {
          "output_type": "stream",
          "text": [
            "18598\n",
            "18598\n"
          ],
          "name": "stdout"
        },
        {
          "output_type": "execute_result",
          "data": {
            "text/plain": [
              "array([[172.,  85., 154., ...,  60., 174.,  40.],\n",
              "       [ 85., 154., 135., ..., 174.,  40., 112.],\n",
              "       [154., 135., 254., ...,  40., 112., 112.],\n",
              "       ...,\n",
              "       [ 19.,  20.,  24., ...,  28.,  27.,  15.],\n",
              "       [ 20.,  24.,  11., ...,  27.,  15.,  12.],\n",
              "       [ 24.,  11.,  37., ...,  15.,  12.,   7.]])"
            ]
          },
          "metadata": {
            "tags": []
          },
          "execution_count": 12
        }
      ]
    },
    {
      "cell_type": "code",
      "metadata": {
        "colab": {
          "base_uri": "https://localhost:8080/"
        },
        "id": "ktBovm_I-VAz",
        "outputId": "59887668-f578-4c57-929a-3dbcd4fdf692"
      },
      "source": [
        "#sample\n",
        "X_train[15:25]"
      ],
      "execution_count": null,
      "outputs": [
        {
          "output_type": "execute_result",
          "data": {
            "text/plain": [
              "array([[121., 106., 105., 105.,  69., 133.,  35.,   1.,  36.,  36.],\n",
              "       [106., 105., 105.,  69., 133.,  35.,   1.,  36.,  36.,  47.],\n",
              "       [105., 105.,  69., 133.,  35.,   1.,  36.,  36.,  47., 108.],\n",
              "       [105.,  69., 133.,  35.,   1.,  36.,  36.,  47., 108.,  78.],\n",
              "       [ 69., 133.,  35.,   1.,  36.,  36.,  47., 108.,  78.,  40.],\n",
              "       [133.,  35.,   1.,  36.,  36.,  47., 108.,  78.,  40.,  37.],\n",
              "       [ 35.,   1.,  36.,  36.,  47., 108.,  78.,  40.,  37.,  70.],\n",
              "       [  1.,  36.,  36.,  47., 108.,  78.,  40.,  37.,  70., 107.],\n",
              "       [ 36.,  36.,  47., 108.,  78.,  40.,  37.,  70., 107.,  76.],\n",
              "       [ 36.,  47., 108.,  78.,  40.,  37.,  70., 107.,  76.,  86.]])"
            ]
          },
          "metadata": {
            "tags": []
          },
          "execution_count": 13
        }
      ]
    },
    {
      "cell_type": "code",
      "metadata": {
        "colab": {
          "base_uri": "https://localhost:8080/"
        },
        "id": "9LiouGOgBEaP",
        "outputId": "1258bed1-d525-478e-c493-1598bdc163f5"
      },
      "source": [
        "#sample\n",
        "Y_train"
      ],
      "execution_count": null,
      "outputs": [
        {
          "output_type": "execute_result",
          "data": {
            "text/plain": [
              "array([[ 40., 112., 112., ...,  60.,  48., 121.],\n",
              "       [112., 112., 201., ...,  48., 121., 106.],\n",
              "       [112., 201.,  60., ..., 121., 106., 105.],\n",
              "       ...,\n",
              "       [ 15.,  12.,   7., ...,  12.,   5.,  29.],\n",
              "       [ 12.,   7.,  27., ...,   5.,  29.,  13.],\n",
              "       [  7.,  27.,  12., ...,  29.,  13.,   5.]])"
            ]
          },
          "metadata": {
            "tags": []
          },
          "execution_count": 14
        }
      ]
    },
    {
      "cell_type": "code",
      "metadata": {
        "id": "3uFo__dQBFRv"
      },
      "source": [
        "X_traintemp=X_train#temporary \n",
        "Y_traintemp=Y_train#temporary not in use"
      ],
      "execution_count": null,
      "outputs": []
    },
    {
      "cell_type": "code",
      "metadata": {
        "colab": {
          "base_uri": "https://localhost:8080/"
        },
        "id": "rdvidttyBJpv",
        "outputId": "f007b74d-8281-4fd6-bc43-4117c05adc39"
      },
      "source": [
        "X_train=X_train.reshape((len(X_train),10,1))\n",
        "print(X_train.shape,Y_train.shape)"
      ],
      "execution_count": null,
      "outputs": [
        {
          "output_type": "stream",
          "text": [
            "(18598, 10, 1) (18598, 7)\n"
          ],
          "name": "stdout"
        }
      ]
    },
    {
      "cell_type": "code",
      "metadata": {
        "colab": {
          "base_uri": "https://localhost:8080/"
        },
        "id": "TGkwslsFF5FF",
        "outputId": "64db657e-2662-4638-f6f4-5108ba350364"
      },
      "source": [
        "# LSTM architecture\n",
        "def model_arch():\n",
        "    lstm_hidden = 32\n",
        "    initi = keras.initializers.RandomNormal(mean=0.0, stddev=0.01, seed=123)\n",
        "    main_input = Input(shape=(10,1), name='main_input')\n",
        "    lstm_out = LSTM(lstm_hidden,kernel_initializer=initi, recurrent_initializer= initi, bias_initializer=initi)(main_input)\n",
        "    lstm_out = Dropout(0.45)(lstm_out)\n",
        "    main_output = (Dense(7, name='main_output')(lstm_out))\n",
        "#     Adam=keras.optimizers.Adam(lr=0.01, beta_1=0.9, beta_2=0.999, epsilon=None, decay=0.01, amsgrad=False)\n",
        "\n",
        "    model = Model(inputs=main_input, outputs=main_output)\n",
        "    model.compile(loss='mean_squared_error',optimizer='adam')\n",
        "    return model\n",
        "\n",
        "model = model_arch()\n",
        "earlystop=EarlyStopping(monitor='val_acc', min_delta=0, patience=4, verbose=0, mode='auto', baseline=None, restore_best_weights=True)\n",
        "callbacks_list = [earlystop]\n",
        "print(\"model is building\")\n",
        "bs = 128\n",
        "model.fit(batch_size=bs,epochs=100,x=X_train,y=Y_train, verbose=1,validation_split=0.1)\n",
        "print(\"model building done\")\n",
        "    "
      ],
      "execution_count": null,
      "outputs": [
        {
          "output_type": "stream",
          "text": [
            "model is building\n",
            "Epoch 1/100\n",
            "131/131 [==============================] - 4s 13ms/step - loss: 6565936.5606 - val_loss: 2319419.7500\n",
            "Epoch 2/100\n",
            "131/131 [==============================] - 1s 7ms/step - loss: 6772023.4545 - val_loss: 2314025.0000\n",
            "Epoch 3/100\n",
            "131/131 [==============================] - 1s 7ms/step - loss: 5732725.0152 - val_loss: 2308787.2500\n",
            "Epoch 4/100\n",
            "131/131 [==============================] - 1s 7ms/step - loss: 6299686.8371 - val_loss: 2303684.0000\n",
            "Epoch 5/100\n",
            "131/131 [==============================] - 1s 8ms/step - loss: 6482024.4356 - val_loss: 2298634.2500\n",
            "Epoch 6/100\n",
            "131/131 [==============================] - 1s 7ms/step - loss: 6768309.5076 - val_loss: 2293703.7500\n",
            "Epoch 7/100\n",
            "131/131 [==============================] - 1s 7ms/step - loss: 6083557.2917 - val_loss: 2288785.7500\n",
            "Epoch 8/100\n",
            "131/131 [==============================] - 1s 7ms/step - loss: 6234864.7462 - val_loss: 2283937.7500\n",
            "Epoch 9/100\n",
            "131/131 [==============================] - 1s 7ms/step - loss: 5906936.9621 - val_loss: 2279118.0000\n",
            "Epoch 10/100\n",
            "131/131 [==============================] - 1s 7ms/step - loss: 6264847.7083 - val_loss: 2274277.0000\n",
            "Epoch 11/100\n",
            "131/131 [==============================] - 1s 7ms/step - loss: 5624317.0019 - val_loss: 2269514.5000\n",
            "Epoch 12/100\n",
            "131/131 [==============================] - 1s 7ms/step - loss: 5279078.3845 - val_loss: 2264772.0000\n",
            "Epoch 13/100\n",
            "131/131 [==============================] - 1s 7ms/step - loss: 6200332.0303 - val_loss: 2260076.2500\n",
            "Epoch 14/100\n",
            "131/131 [==============================] - 1s 7ms/step - loss: 6124119.8447 - val_loss: 2255363.2500\n",
            "Epoch 15/100\n",
            "131/131 [==============================] - 1s 7ms/step - loss: 5958925.3835 - val_loss: 2250720.5000\n",
            "Epoch 16/100\n",
            "131/131 [==============================] - 1s 8ms/step - loss: 6003590.7311 - val_loss: 2246104.7500\n",
            "Epoch 17/100\n",
            "131/131 [==============================] - 1s 7ms/step - loss: 5752470.3485 - val_loss: 2241507.2500\n",
            "Epoch 18/100\n",
            "131/131 [==============================] - 1s 7ms/step - loss: 6509053.8864 - val_loss: 2236893.5000\n",
            "Epoch 19/100\n",
            "131/131 [==============================] - 1s 7ms/step - loss: 5499031.1837 - val_loss: 2232343.0000\n",
            "Epoch 20/100\n",
            "131/131 [==============================] - 1s 7ms/step - loss: 6204924.0682 - val_loss: 2227793.0000\n",
            "Epoch 21/100\n",
            "131/131 [==============================] - 1s 7ms/step - loss: 6024019.8878 - val_loss: 2223281.2500\n",
            "Epoch 22/100\n",
            "131/131 [==============================] - 1s 7ms/step - loss: 6325719.9356 - val_loss: 2218768.5000\n",
            "Epoch 23/100\n",
            "131/131 [==============================] - 1s 7ms/step - loss: 6688321.5455 - val_loss: 2214340.7500\n",
            "Epoch 24/100\n",
            "131/131 [==============================] - 1s 7ms/step - loss: 6423263.9129 - val_loss: 2209872.7500\n",
            "Epoch 25/100\n",
            "131/131 [==============================] - 1s 7ms/step - loss: 6196636.2898 - val_loss: 2205480.7500\n",
            "Epoch 26/100\n",
            "131/131 [==============================] - 1s 7ms/step - loss: 5958212.5852 - val_loss: 2201088.7500\n",
            "Epoch 27/100\n",
            "131/131 [==============================] - 1s 7ms/step - loss: 5889324.5644 - val_loss: 2196742.2500\n",
            "Epoch 28/100\n",
            "131/131 [==============================] - 1s 7ms/step - loss: 6446781.7462 - val_loss: 2192361.2500\n",
            "Epoch 29/100\n",
            "131/131 [==============================] - 1s 7ms/step - loss: 5480807.2443 - val_loss: 2188023.2500\n",
            "Epoch 30/100\n",
            "131/131 [==============================] - 1s 7ms/step - loss: 6232365.4924 - val_loss: 2183710.2500\n",
            "Epoch 31/100\n",
            "131/131 [==============================] - 1s 7ms/step - loss: 6611863.5492 - val_loss: 2179416.7500\n",
            "Epoch 32/100\n",
            "131/131 [==============================] - 1s 7ms/step - loss: 5481468.1383 - val_loss: 2175192.0000\n",
            "Epoch 33/100\n",
            "131/131 [==============================] - 1s 7ms/step - loss: 6421038.5644 - val_loss: 2170902.2500\n",
            "Epoch 34/100\n",
            "131/131 [==============================] - 1s 7ms/step - loss: 5871369.5473 - val_loss: 2166678.2500\n",
            "Epoch 35/100\n",
            "131/131 [==============================] - 1s 7ms/step - loss: 6022698.2879 - val_loss: 2162478.0000\n",
            "Epoch 36/100\n",
            "131/131 [==============================] - 1s 7ms/step - loss: 5828991.7538 - val_loss: 2158286.0000\n",
            "Epoch 37/100\n",
            "131/131 [==============================] - 1s 7ms/step - loss: 6446021.4943 - val_loss: 2154081.5000\n",
            "Epoch 38/100\n",
            "131/131 [==============================] - 1s 7ms/step - loss: 5981292.3144 - val_loss: 2149963.2500\n",
            "Epoch 39/100\n",
            "131/131 [==============================] - 1s 8ms/step - loss: 6064870.7576 - val_loss: 2145750.7500\n",
            "Epoch 40/100\n",
            "131/131 [==============================] - 1s 7ms/step - loss: 5734033.3556 - val_loss: 2141692.7500\n",
            "Epoch 41/100\n",
            "131/131 [==============================] - 1s 8ms/step - loss: 5893629.6250 - val_loss: 2144166.0000\n",
            "Epoch 42/100\n",
            "131/131 [==============================] - 1s 7ms/step - loss: 5684915.0852 - val_loss: 2133540.7500\n",
            "Epoch 43/100\n",
            "131/131 [==============================] - 1s 7ms/step - loss: 6078236.0795 - val_loss: 2129537.5000\n",
            "Epoch 44/100\n",
            "131/131 [==============================] - 1s 7ms/step - loss: 5387272.3996 - val_loss: 2125455.7500\n",
            "Epoch 45/100\n",
            "131/131 [==============================] - 1s 7ms/step - loss: 5991724.2045 - val_loss: 2121388.7500\n",
            "Epoch 46/100\n",
            "131/131 [==============================] - 1s 8ms/step - loss: 5404279.6591 - val_loss: 2117416.5000\n",
            "Epoch 47/100\n",
            "131/131 [==============================] - 1s 7ms/step - loss: 5916984.5739 - val_loss: 2113406.2500\n",
            "Epoch 48/100\n",
            "131/131 [==============================] - 1s 7ms/step - loss: 6058299.4034 - val_loss: 2109429.7500\n",
            "Epoch 49/100\n",
            "131/131 [==============================] - 1s 8ms/step - loss: 6339372.1856 - val_loss: 2105514.5000\n",
            "Epoch 50/100\n",
            "131/131 [==============================] - 1s 7ms/step - loss: 5231416.2027 - val_loss: 2101589.5000\n",
            "Epoch 51/100\n",
            "131/131 [==============================] - 1s 7ms/step - loss: 6661992.8977 - val_loss: 2097666.2500\n",
            "Epoch 52/100\n",
            "131/131 [==============================] - 1s 7ms/step - loss: 6186936.7917 - val_loss: 2093788.5000\n",
            "Epoch 53/100\n",
            "131/131 [==============================] - 1s 8ms/step - loss: 5574784.2727 - val_loss: 2089878.6250\n",
            "Epoch 54/100\n",
            "131/131 [==============================] - 1s 7ms/step - loss: 6450612.8750 - val_loss: 2086020.6250\n",
            "Epoch 55/100\n",
            "131/131 [==============================] - 1s 7ms/step - loss: 6163276.7348 - val_loss: 2082131.8750\n",
            "Epoch 56/100\n",
            "131/131 [==============================] - 1s 7ms/step - loss: 5999517.0758 - val_loss: 2078293.3750\n",
            "Epoch 57/100\n",
            "131/131 [==============================] - 1s 7ms/step - loss: 5135441.3371 - val_loss: 2074544.8750\n",
            "Epoch 58/100\n",
            "131/131 [==============================] - 1s 7ms/step - loss: 6134077.8068 - val_loss: 2070685.0000\n",
            "Epoch 59/100\n",
            "131/131 [==============================] - 1s 7ms/step - loss: 6246785.6629 - val_loss: 2066919.6250\n",
            "Epoch 60/100\n",
            "131/131 [==============================] - 1s 7ms/step - loss: 5993990.4318 - val_loss: 2063105.5000\n",
            "Epoch 61/100\n",
            "131/131 [==============================] - 1s 7ms/step - loss: 6631940.7386 - val_loss: 2059367.7500\n",
            "Epoch 62/100\n",
            "131/131 [==============================] - 1s 7ms/step - loss: 6045324.1667 - val_loss: 2055583.3750\n",
            "Epoch 63/100\n",
            "131/131 [==============================] - 1s 8ms/step - loss: 5955913.0147 - val_loss: 2051869.3750\n",
            "Epoch 64/100\n",
            "131/131 [==============================] - 1s 8ms/step - loss: 6152461.1705 - val_loss: 2048107.3750\n",
            "Epoch 65/100\n",
            "131/131 [==============================] - 1s 7ms/step - loss: 5940607.0398 - val_loss: 2044472.0000\n",
            "Epoch 66/100\n",
            "131/131 [==============================] - 1s 7ms/step - loss: 6139890.8144 - val_loss: 2040809.1250\n",
            "Epoch 67/100\n",
            "131/131 [==============================] - 1s 7ms/step - loss: 5024639.6567 - val_loss: 2037146.2500\n",
            "Epoch 68/100\n",
            "131/131 [==============================] - 1s 7ms/step - loss: 6259002.0682 - val_loss: 2033454.2500\n",
            "Epoch 69/100\n",
            "131/131 [==============================] - 1s 7ms/step - loss: 5674337.8333 - val_loss: 2029863.3750\n",
            "Epoch 70/100\n",
            "131/131 [==============================] - 1s 7ms/step - loss: 6396533.7500 - val_loss: 2026274.1250\n",
            "Epoch 71/100\n",
            "131/131 [==============================] - 1s 8ms/step - loss: 6464266.3106 - val_loss: 2022625.1250\n",
            "Epoch 72/100\n",
            "131/131 [==============================] - 1s 7ms/step - loss: 6515886.2614 - val_loss: 2019052.8750\n",
            "Epoch 73/100\n",
            "131/131 [==============================] - 1s 7ms/step - loss: 6175541.3864 - val_loss: 2015542.5000\n",
            "Epoch 74/100\n",
            "131/131 [==============================] - 1s 8ms/step - loss: 5439819.2083 - val_loss: 2011874.2500\n",
            "Epoch 75/100\n",
            "131/131 [==============================] - 1s 7ms/step - loss: 5790980.6553 - val_loss: 2008469.5000\n",
            "Epoch 76/100\n",
            "131/131 [==============================] - 1s 7ms/step - loss: 5873794.8580 - val_loss: 2004790.6250\n",
            "Epoch 77/100\n",
            "131/131 [==============================] - 1s 7ms/step - loss: 5670340.2036 - val_loss: 2001257.0000\n",
            "Epoch 78/100\n",
            "131/131 [==============================] - 1s 7ms/step - loss: 5743357.5303 - val_loss: 1997756.8750\n",
            "Epoch 79/100\n",
            "131/131 [==============================] - 1s 7ms/step - loss: 5926388.4602 - val_loss: 1994367.6250\n",
            "Epoch 80/100\n",
            "131/131 [==============================] - 1s 7ms/step - loss: 5200219.5729 - val_loss: 1990886.1250\n",
            "Epoch 81/100\n",
            "131/131 [==============================] - 1s 7ms/step - loss: 6119760.4811 - val_loss: 1987460.6250\n",
            "Epoch 82/100\n",
            "131/131 [==============================] - 1s 8ms/step - loss: 5714715.3769 - val_loss: 1983889.8750\n",
            "Epoch 83/100\n",
            "131/131 [==============================] - 1s 7ms/step - loss: 5083175.1894 - val_loss: 1980453.7500\n",
            "Epoch 84/100\n",
            "131/131 [==============================] - 1s 7ms/step - loss: 5686370.5170 - val_loss: 1977039.8750\n",
            "Epoch 85/100\n",
            "131/131 [==============================] - 1s 7ms/step - loss: 5034143.8797 - val_loss: 1973679.5000\n",
            "Epoch 86/100\n",
            "131/131 [==============================] - 1s 7ms/step - loss: 6165717.1780 - val_loss: 1970313.1250\n",
            "Epoch 87/100\n",
            "131/131 [==============================] - 1s 7ms/step - loss: 5903380.2765 - val_loss: 1966847.2500\n",
            "Epoch 88/100\n",
            "131/131 [==============================] - 1s 7ms/step - loss: 6261161.0492 - val_loss: 1963506.1250\n",
            "Epoch 89/100\n",
            "131/131 [==============================] - 1s 7ms/step - loss: 5756920.2045 - val_loss: 1960278.1250\n",
            "Epoch 90/100\n",
            "131/131 [==============================] - 1s 7ms/step - loss: 5719676.4730 - val_loss: 1956864.8750\n",
            "Epoch 91/100\n",
            "131/131 [==============================] - 1s 7ms/step - loss: 5801783.2273 - val_loss: 1953492.6250\n",
            "Epoch 92/100\n",
            "131/131 [==============================] - 1s 7ms/step - loss: 5268178.6856 - val_loss: 1950183.8750\n",
            "Epoch 93/100\n",
            "131/131 [==============================] - 1s 8ms/step - loss: 5766206.5985 - val_loss: 1946951.3750\n",
            "Epoch 94/100\n",
            "131/131 [==============================] - 1s 7ms/step - loss: 5549800.9640 - val_loss: 1943658.1250\n",
            "Epoch 95/100\n",
            "131/131 [==============================] - 1s 7ms/step - loss: 5492861.0644 - val_loss: 1940367.3750\n",
            "Epoch 96/100\n",
            "131/131 [==============================] - 1s 7ms/step - loss: 6263951.7727 - val_loss: 1937167.7500\n",
            "Epoch 97/100\n",
            "131/131 [==============================] - 1s 8ms/step - loss: 5420995.8362 - val_loss: 1933867.2500\n",
            "Epoch 98/100\n",
            "131/131 [==============================] - 1s 8ms/step - loss: 5067750.1515 - val_loss: 1930654.8750\n",
            "Epoch 99/100\n",
            "131/131 [==============================] - 1s 7ms/step - loss: 5234281.8049 - val_loss: 1927373.2500\n",
            "Epoch 100/100\n",
            "131/131 [==============================] - 1s 7ms/step - loss: 5592204.9072 - val_loss: 1924159.7500\n",
            "model building done\n"
          ],
          "name": "stdout"
        }
      ]
    },
    {
      "cell_type": "code",
      "metadata": {
        "colab": {
          "base_uri": "https://localhost:8080/"
        },
        "id": "XdX488tWK3nt",
        "outputId": "5473a253-982e-4208-8f4b-4ad5339f4d88"
      },
      "source": [
        "# Prepare test data\n",
        "X_test=[]\n",
        "Y_test=[]\n",
        "for ind in df_newfile.Country:\n",
        "  df_g=df_test[df_test['Country']==ind]\n",
        "  df_g = df_g[df_g['Daily Cases']!=0]\n",
        "  df_g=df_g['Daily Cases']\n",
        "  data=df_g.values\n",
        "  for i in range(0,len(data)):\n",
        "        if i+16<=len(data):\n",
        "            X_test.append(data[i:i+10])\n",
        "            Y_test.append(data[i+9:i+16])\n",
        "X_test=np.array(X_test)\n",
        "Y_test=np.array(Y_test)\n",
        "print(len(X_test),len(Y_test))"
      ],
      "execution_count": null,
      "outputs": [
        {
          "output_type": "stream",
          "text": [
            "981 981\n"
          ],
          "name": "stdout"
        }
      ]
    },
    {
      "cell_type": "code",
      "metadata": {
        "colab": {
          "base_uri": "https://localhost:8080/"
        },
        "id": "L5XZG_ltLCT8",
        "outputId": "f177815b-8f3b-4d04-bef9-39b15f8fa554"
      },
      "source": [
        "X_test"
      ],
      "execution_count": null,
      "outputs": [
        {
          "output_type": "execute_result",
          "data": {
            "text/plain": [
              "array([[ 76., 132.,  95., ..., 126., 138., 166.],\n",
              "       [132.,  95.,  86., ..., 138., 166., 146.],\n",
              "       [230., 193., 349., ...,  98., 247., 136.],\n",
              "       ...,\n",
              "       [ 16.,  31.,  49., ...,  46.,  60.,  80.],\n",
              "       [  7.,  15.,  21., ...,  33.,  30.,  49.],\n",
              "       [ 15.,  21.,  17., ...,  30.,  49.,  57.]])"
            ]
          },
          "metadata": {
            "tags": []
          },
          "execution_count": 19
        }
      ]
    },
    {
      "cell_type": "code",
      "metadata": {
        "colab": {
          "base_uri": "https://localhost:8080/"
        },
        "id": "2F0RN0kYTgfY",
        "outputId": "2fcc7884-d81f-4c4a-ce5d-3432bf4e9aef"
      },
      "source": [
        "Y_test"
      ],
      "execution_count": null,
      "outputs": [
        {
          "output_type": "execute_result",
          "data": {
            "text/plain": [
              "array([[166., 146., 186., ...,  66., 205., 228.],\n",
              "       [146., 186., 174., ..., 205., 228., 213.],\n",
              "       [136., 137., 100., ..., 146.,  77., 164.],\n",
              "       ...,\n",
              "       [ 80.,  95.,  88., ...,  73.,  74., 104.],\n",
              "       [ 49.,  57.,  29., ...,  21.,  43.,  68.],\n",
              "       [ 57.,  29.,  69., ...,  43.,  68.,  48.]])"
            ]
          },
          "metadata": {
            "tags": []
          },
          "execution_count": 20
        }
      ]
    },
    {
      "cell_type": "code",
      "metadata": {
        "id": "2Ep0hPeSCJS-"
      },
      "source": [
        "np.savetxt('/content/xtrain_m.txt', X_test, fmt='%d')\n",
        "np.savetxt('/content/ytrain_m.txt', Y_test, fmt='%d')"
      ],
      "execution_count": null,
      "outputs": []
    },
    {
      "cell_type": "code",
      "metadata": {
        "colab": {
          "base_uri": "https://localhost:8080/"
        },
        "id": "J9yE9Jt-CMuk",
        "outputId": "68d3481a-e5bc-4bf6-f0bb-22fb6c824853"
      },
      "source": [
        "# X_testtempp=X_test\n",
        "# X_test= scaler.transform(X_test)\n",
        "X_test=X_test.reshape((len(X_test),10,1))\n",
        "print(X_test.shape,Y_test.shape)"
      ],
      "execution_count": null,
      "outputs": [
        {
          "output_type": "stream",
          "text": [
            "(981, 10, 1) (981, 7)\n"
          ],
          "name": "stdout"
        }
      ]
    },
    {
      "cell_type": "code",
      "metadata": {
        "colab": {
          "base_uri": "https://localhost:8080/"
        },
        "id": "Jmbf7VU-CPen",
        "outputId": "b2cecd78-7d43-4b9a-9be8-6d4762677fef"
      },
      "source": [
        "# prediction\n",
        "pred=model.predict(x=X_test)\n",
        "print(pred.shape)\n",
        "#inverse scaling\n",
        "# pred1=scaler.inverse_transform(pred)\n",
        "\n",
        "#Find RMSE\n",
        "from sklearn.metrics import mean_squared_error\n",
        "\n",
        "rms = mean_squared_error(Y_test, pred)\n",
        "print(np.sqrt(rms))\n",
        "#basic lstm rmse 3820.249039420963//don't remove\n"
      ],
      "execution_count": null,
      "outputs": [
        {
          "output_type": "stream",
          "text": [
            "(981, 7)\n",
            "4638.500867919959\n"
          ],
          "name": "stdout"
        }
      ]
    },
    {
      "cell_type": "code",
      "metadata": {
        "id": "3C9zQHBkCSJG",
        "colab": {
          "base_uri": "https://localhost:8080/"
        },
        "outputId": "1f651569-8881-45ad-a708-54dd50e34f25"
      },
      "source": [
        "# dff = pd.DataFrame({'X':pred1, 'Y':Y_test})\n",
        "# dff\n",
        "# x = np.random.randn(5)\n",
        "# y = np.sin(x)\n",
        "# mg = pd.DataFrame({'x':pred1, 'y':Y_test})\n",
        "pred[0:6]"
      ],
      "execution_count": null,
      "outputs": [
        {
          "output_type": "execute_result",
          "data": {
            "text/plain": [
              "array([[132.80963, 133.05873, 134.91261, 134.42543, 134.8692 , 135.04282,\n",
              "        135.23112],\n",
              "       [151.38934, 151.66614, 153.31186, 153.19165, 153.37102, 153.71048,\n",
              "        153.59775],\n",
              "       [141.4715 , 141.92148, 144.44458, 144.05502, 144.26128, 144.55212,\n",
              "        144.65117],\n",
              "       [145.1368 , 145.5776 , 148.19214, 147.69139, 148.04662, 148.29617,\n",
              "        148.33228],\n",
              "       [396.35532, 396.10443, 398.8032 , 397.61707, 399.14023, 401.07925,\n",
              "        398.49564],\n",
              "       [396.35532, 396.10443, 398.8032 , 397.61707, 399.14023, 401.07925,\n",
              "        398.49564]], dtype=float32)"
            ]
          },
          "metadata": {
            "tags": []
          },
          "execution_count": 24
        }
      ]
    },
    {
      "cell_type": "code",
      "metadata": {
        "id": "uUUbgA0VCU9F",
        "colab": {
          "base_uri": "https://localhost:8080/"
        },
        "outputId": "1d9f8e8a-6280-4f5b-f900-e3b38afe9a72"
      },
      "source": [
        "Y_test[0:6]"
      ],
      "execution_count": null,
      "outputs": [
        {
          "output_type": "execute_result",
          "data": {
            "text/plain": [
              "array([[  166.,   146.,   186.,   174.,    66.,   205.,   228.],\n",
              "       [  146.,   186.,   174.,    66.,   205.,   228.,   213.],\n",
              "       [  136.,   137.,   100.,   175.,   146.,    77.,   164.],\n",
              "       [  137.,   100.,   175.,   146.,    77.,   164.,   203.],\n",
              "       [11977., 10880., 11163., 11859.,  8468.,  5645.,  7893.],\n",
              "       [10880., 11163., 11859.,  8468.,  5645.,  7893., 10621.]])"
            ]
          },
          "metadata": {
            "tags": []
          },
          "execution_count": 25
        }
      ]
    },
    {
      "cell_type": "code",
      "metadata": {
        "id": "ngBrySidCX-M"
      },
      "source": [
        "predbasic = np.loadtxt('predbasic.txt', dtype=float)"
      ],
      "execution_count": null,
      "outputs": []
    },
    {
      "cell_type": "code",
      "metadata": {
        "colab": {
          "base_uri": "https://localhost:8080/"
        },
        "id": "eUySM9cIQ9Nm",
        "outputId": "9134a4bf-a4dd-4bd7-b8c8-ce175d6fe73e"
      },
      "source": [
        "predbasic.shape\n"
      ],
      "execution_count": null,
      "outputs": [
        {
          "output_type": "execute_result",
          "data": {
            "text/plain": [
              "(15, 7)"
            ]
          },
          "metadata": {
            "tags": []
          },
          "execution_count": 28
        }
      ]
    },
    {
      "cell_type": "code",
      "metadata": {
        "id": "q_oMbMjCRDDY"
      },
      "source": [
        "import matplotlib.pyplot as plt\n"
      ],
      "execution_count": null,
      "outputs": []
    },
    {
      "cell_type": "code",
      "metadata": {
        "colab": {
          "base_uri": "https://localhost:8080/",
          "height": 282
        },
        "id": "vvzK-Bh0Rz1c",
        "outputId": "7e8b34fd-91e7-4dd2-ffc2-797a8d11918b"
      },
      "source": [
        "x_value=[]\n",
        "for ind in range(X_test.shape[1]+len(pred[0])):\n",
        "  x_value.append(ind)\n",
        "x_value\n",
        "full=X_test[0]\n",
        "full=full.reshape(X_test.shape[1])\n",
        "full=np.append(full,Y_test[0])\n",
        "# full.append(Y_test[0])\n",
        "# full.shape\n",
        "# for ind in Y_test[0]:\n",
        "#   full.append(ind)\n",
        "full\n",
        "\n",
        "\n",
        "\n",
        "plt.plot(x_value,full, c='red')\n",
        "x1_value=[]\n",
        "for ind in range(len(pred[0])):\n",
        "  x1_value.append(ind+X_test.shape[1])\n",
        "x1_value\n",
        "plt.plot(x1_value,pred[0], c='blue')\n",
        "\n",
        "\n",
        "x2_value=[]\n",
        "for ind in range(len(predbasic[0])):\n",
        "  x2_value.append(ind+X_test.shape[1])\n",
        "x2_value\n",
        "plt.plot(x2_value,predbasic[0], c='green')\n"
      ],
      "execution_count": null,
      "outputs": [
        {
          "output_type": "execute_result",
          "data": {
            "text/plain": [
              "[<matplotlib.lines.Line2D at 0x7f82a4955f50>]"
            ]
          },
          "metadata": {
            "tags": []
          },
          "execution_count": 30
        },
        {
          "output_type": "display_data",
          "data": {
            "image/png": "[encoded data removed]",
            "text/plain": [
              "<Figure size 432x288 with 1 Axes>"
            ]
          },
          "metadata": {
            "tags": [],
            "needs_background": "light"
          }
        }
      ]
    },
    {
      "cell_type": "code",
      "metadata": {
        "colab": {
          "base_uri": "https://localhost:8080/",
          "height": 282
        },
        "id": "Ypu4fWzCR2S4",
        "outputId": "76d742af-abc6-4a62-d012-8c016351b810"
      },
      "source": [
        "x_value=[]\n",
        "for ind in range(X_test.shape[1]+len(pred[0])):\n",
        "  x_value.append(ind)\n",
        "x_value\n",
        "full=X_test[1]\n",
        "full=full.reshape(X_test.shape[1])\n",
        "full=np.append(full,Y_test[1])\n",
        "\n",
        "\n",
        "\n",
        "plt.plot(x_value,full, c='red')\n",
        "x1_value=[]\n",
        "for ind in range(len(pred[1])):\n",
        "  x1_value.append(ind+X_test.shape[1])\n",
        "x1_value\n",
        "plt.plot(x1_value,pred[1], c='blue')\n",
        "\n",
        "\n",
        "x2_value=[]\n",
        "for ind in range(len(predbasic[1])):\n",
        "  x2_value.append(ind+X_test.shape[1])\n",
        "x2_value\n",
        "plt.plot(x2_value,predbasic[1], c='green')\n"
      ],
      "execution_count": null,
      "outputs": [
        {
          "output_type": "execute_result",
          "data": {
            "text/plain": [
              "[<matplotlib.lines.Line2D at 0x7f82a4439090>]"
            ]
          },
          "metadata": {
            "tags": []
          },
          "execution_count": 31
        },
        {
          "output_type": "display_data",
          "data": {
            "image/png": "[encoded data removed]",
            "text/plain": [
              "<Figure size 432x288 with 1 Axes>"
            ]
          },
          "metadata": {
            "tags": [],
            "needs_background": "light"
          }
        }
      ]
    },
    {
      "cell_type": "code",
      "metadata": {
        "colab": {
          "base_uri": "https://localhost:8080/",
          "height": 282
        },
        "id": "9gATzV2kR7nB",
        "outputId": "4c955248-9328-4a77-d191-59696b527f99"
      },
      "source": [
        "x_value=[]\n",
        "for ind in range(X_test.shape[1]+len(pred[0])):\n",
        "  x_value.append(ind)\n",
        "x_value\n",
        "full=X_test[2]\n",
        "full=full.reshape(X_test.shape[1])\n",
        "full=np.append(full,Y_test[2])\n",
        "\n",
        "plt.plot(x_value,full, c='red')\n",
        "x1_value=[]\n",
        "for ind in range(len(pred[2])):\n",
        "  x1_value.append(ind+X_test.shape[1])\n",
        "x1_value\n",
        "plt.plot(x1_value,pred[2], c='blue')\n",
        "x2_value=[]\n",
        "for ind in range(len(predbasic[2])):\n",
        "  x2_value.append(ind+X_test.shape[1])\n",
        "x2_value\n",
        "plt.plot(x2_value,predbasic[2], c='green')\n"
      ],
      "execution_count": null,
      "outputs": [
        {
          "output_type": "execute_result",
          "data": {
            "text/plain": [
              "[<matplotlib.lines.Line2D at 0x7f82a43b1dd0>]"
            ]
          },
          "metadata": {
            "tags": []
          },
          "execution_count": 32
        },
        {
          "output_type": "display_data",
          "data": {
            "image/png": "[encoded data removed]",
            "text/plain": [
              "<Figure size 432x288 with 1 Axes>"
            ]
          },
          "metadata": {
            "tags": [],
            "needs_background": "light"
          }
        }
      ]
    },
    {
      "cell_type": "code",
      "metadata": {
        "colab": {
          "base_uri": "https://localhost:8080/",
          "height": 282
        },
        "id": "bRSYVS1ySA7x",
        "outputId": "cc8e9449-0469-4563-d30a-79b6b4a71782"
      },
      "source": [
        "x_value=[]\n",
        "for ind in range(X_test.shape[1]+len(pred[3])):\n",
        "  x_value.append(ind)\n",
        "x_value\n",
        "full=X_test[3]\n",
        "full=full.reshape(X_test.shape[1])\n",
        "full=np.append(full,Y_test[3])\n",
        "\n",
        "plt.plot(x_value,full, c='red')\n",
        "x1_value=[]\n",
        "for ind in range(len(pred[3])):\n",
        "  x1_value.append(ind+X_test.shape[1])\n",
        "x1_value\n",
        "plt.plot(x1_value,pred[3], c='blue')\n",
        "\n",
        "\n",
        "x2_value=[]\n",
        "for ind in range(len(predbasic[3])):\n",
        "  x2_value.append(ind+X_test.shape[1])\n",
        "x2_value\n",
        "plt.plot(x2_value,predbasic[3], c='green')\n"
      ],
      "execution_count": null,
      "outputs": [
        {
          "output_type": "execute_result",
          "data": {
            "text/plain": [
              "[<matplotlib.lines.Line2D at 0x7f82a4331490>]"
            ]
          },
          "metadata": {
            "tags": []
          },
          "execution_count": 33
        },
        {
          "output_type": "display_data",
          "data": {
            "image/png": "[encoded data removed]",
            "text/plain": [
              "<Figure size 432x288 with 1 Axes>"
            ]
          },
          "metadata": {
            "tags": [],
            "needs_background": "light"
          }
        }
      ]
    },
    {
      "cell_type": "code",
      "metadata": {
        "colab": {
          "base_uri": "https://localhost:8080/",
          "height": 282
        },
        "id": "s-rZOtBcSFrv",
        "outputId": "fca91080-da95-4439-8eee-e52f382eb7cb"
      },
      "source": [
        "x_value=[]\n",
        "for ind in range(X_test.shape[1]+len(pred[4])):\n",
        "  x_value.append(ind)\n",
        "x_value\n",
        "full=X_test[4]\n",
        "full=full.reshape(X_test.shape[1])\n",
        "full=np.append(full,Y_test[4])\n",
        "# full.append(Y_test[0])\n",
        "# full.shape\n",
        "# for ind in Y_test[0]:\n",
        "#   full.append(ind)\n",
        "full\n",
        "plt.plot(x_value,full, c='red')\n",
        "x1_value=[]\n",
        "for ind in range(len(pred[4])):\n",
        "  x1_value.append(ind+X_test.shape[1])\n",
        "x1_value\n",
        "plt.plot(x1_value,pred[4], c='blue')\n",
        "\n",
        "\n",
        "x2_value=[]\n",
        "for ind in range(len(predbasic[4])):\n",
        "  x2_value.append(ind+X_test.shape[1])\n",
        "x2_value\n",
        "plt.plot(x2_value,predbasic[4], c='green')\n"
      ],
      "execution_count": null,
      "outputs": [
        {
          "output_type": "execute_result",
          "data": {
            "text/plain": [
              "[<matplotlib.lines.Line2D at 0x7f82a42a2b10>]"
            ]
          },
          "metadata": {
            "tags": []
          },
          "execution_count": 34
        },
        {
          "output_type": "display_data",
          "data": {
            "image/png": "[encoded data removed]",
            "text/plain": [
              "<Figure size 432x288 with 1 Axes>"
            ]
          },
          "metadata": {
            "tags": [],
            "needs_background": "light"
          }
        }
      ]
    },
    {
      "cell_type": "code",
      "metadata": {
        "colab": {
          "base_uri": "https://localhost:8080/",
          "height": 282
        },
        "id": "_BuMeIsESLp4",
        "outputId": "fbe03193-a287-4b59-f381-98866eda2784"
      },
      "source": [
        "x_value=[]\n",
        "for ind in range(X_test.shape[1]+len(pred[6])):\n",
        "  x_value.append(ind)\n",
        "x_value\n",
        "full=X_test[6]\n",
        "full=full.reshape(X_test.shape[1])\n",
        "full=np.append(full,Y_test[6])\n",
        "# full.append(Y_test[0])\n",
        "# full.shape\n",
        "# for ind in Y_test[0]:\n",
        "#   full.append(ind)\n",
        "full\n",
        "\n",
        "\n",
        "\n",
        "plt.plot(x_value,full, c='red')\n",
        "x1_value=[]\n",
        "for ind in range(len(pred[6])):\n",
        "  x1_value.append(ind+X_test.shape[1])\n",
        "x1_value\n",
        "plt.plot(x1_value,pred[6], c='blue')\n",
        "\n",
        "\n",
        "x2_value=[]\n",
        "for ind in range(len(predbasic[6])):\n",
        "  x2_value.append(ind+X_test.shape[1])\n",
        "x2_value\n",
        "plt.plot(x2_value,predbasic[6], c='green')\n"
      ],
      "execution_count": null,
      "outputs": [
        {
          "output_type": "execute_result",
          "data": {
            "text/plain": [
              "[<matplotlib.lines.Line2D at 0x7f82a421acd0>]"
            ]
          },
          "metadata": {
            "tags": []
          },
          "execution_count": 35
        },
        {
          "output_type": "display_data",
          "data": {
            "image/png": "[encoded data removed]",
            "text/plain": [
              "<Figure size 432x288 with 1 Axes>"
            ]
          },
          "metadata": {
            "tags": [],
            "needs_background": "light"
          }
        }
      ]
    },
    {
      "cell_type": "code",
      "metadata": {
        "colab": {
          "base_uri": "https://localhost:8080/",
          "height": 282
        },
        "id": "McjvV6d3SVAk",
        "outputId": "53fa393e-02b1-481f-be8b-24e7448813b7"
      },
      "source": [
        "x_value=[]\n",
        "for ind in range(X_test.shape[1]+len(pred[7])):\n",
        "  x_value.append(ind)\n",
        "x_value\n",
        "full=X_test[7]\n",
        "full=full.reshape(X_test.shape[1])\n",
        "full=np.append(full,Y_test[7])\n",
        "# full.append(Y_test[0])\n",
        "# full.shape\n",
        "# for ind in Y_test[0]:\n",
        "#   full.append(ind)\n",
        "full\n",
        "\n",
        "\n",
        "\n",
        "plt.plot(x_value,full, c='red')\n",
        "x1_value=[]\n",
        "for ind in range(len(pred[7])):\n",
        "  x1_value.append(ind+X_test.shape[1])\n",
        "x1_value\n",
        "plt.plot(x1_value,pred[7], c='blue')\n",
        "\n",
        "\n",
        "x2_value=[]\n",
        "for ind in range(len(predbasic[7])):\n",
        "  x2_value.append(ind+X_test.shape[1])\n",
        "x2_value\n",
        "plt.plot(x2_value,predbasic[7], c='green')\n"
      ],
      "execution_count": null,
      "outputs": [
        {
          "output_type": "execute_result",
          "data": {
            "text/plain": [
              "[<matplotlib.lines.Line2D at 0x7f82a4194310>]"
            ]
          },
          "metadata": {
            "tags": []
          },
          "execution_count": 36
        },
        {
          "output_type": "display_data",
          "data": {
            "image/png": "[encoded data removed]",
            "text/plain": [
              "<Figure size 432x288 with 1 Axes>"
            ]
          },
          "metadata": {
            "tags": [],
            "needs_background": "light"
          }
        }
      ]
    },
    {
      "cell_type": "code",
      "metadata": {
        "colab": {
          "base_uri": "https://localhost:8080/",
          "height": 285
        },
        "id": "XCY-4xXgSYMJ",
        "outputId": "1a519e11-3a89-4d60-9a32-a477cdab83f6"
      },
      "source": [
        "x_value=[]\n",
        "for ind in range(X_test.shape[1]+len(pred[8])):\n",
        "  x_value.append(ind)\n",
        "x_value\n",
        "full=X_test[8]\n",
        "full=full.reshape(X_test.shape[1])\n",
        "full=np.append(full,Y_test[8])\n",
        "# full.append(Y_test[0])\n",
        "# full.shape\n",
        "# for ind in Y_test[0]:\n",
        "#   full.append(ind)\n",
        "full\n",
        "\n",
        "\n",
        "\n",
        "plt.plot(x_value,full, c='red')\n",
        "x1_value=[]\n",
        "for ind in range(len(pred[8])):\n",
        "  x1_value.append(ind+X_test.shape[1])\n",
        "x1_value\n",
        "plt.plot(x1_value,pred[8], c='blue')\n",
        "\n",
        "\n",
        "x2_value=[]\n",
        "for ind in range(len(predbasic[8])):\n",
        "  x2_value.append(ind+X_test.shape[1])\n",
        "x2_value\n",
        "plt.plot(x2_value,predbasic[8], c='green')\n"
      ],
      "execution_count": null,
      "outputs": [
        {
          "output_type": "execute_result",
          "data": {
            "text/plain": [
              "[<matplotlib.lines.Line2D at 0x7f82a4186910>]"
            ]
          },
          "metadata": {
            "tags": []
          },
          "execution_count": 37
        },
        {
          "output_type": "display_data",
          "data": {
            "image/png": "[encoded data removed]",
            "text/plain": [
              "<Figure size 432x288 with 1 Axes>"
            ]
          },
          "metadata": {
            "tags": [],
            "needs_background": "light"
          }
        }
      ]
    },
    {
      "cell_type": "code",
      "metadata": {
        "colab": {
          "base_uri": "https://localhost:8080/",
          "height": 476
        },
        "id": "MJSC42GySed1",
        "outputId": "361bdd3f-5728-422a-bd86-9c46b091933e"
      },
      "source": [
        "x_value=[]\n",
        "for ind in range(X_test.shape[1]+len(pred[100])):\n",
        "  x_value.append(ind)\n",
        "x_value\n",
        "full=X_test[100]\n",
        "full=full.reshape(X_test.shape[1])\n",
        "full=np.append(full,Y_test[100])\n",
        "# full.append(Y_test[0])\n",
        "# full.shape\n",
        "# for ind in Y_test[0]:\n",
        "#   full.append(ind)\n",
        "full\n",
        "\n",
        "\n",
        "\n",
        "plt.plot(x_value,full, c='red')\n",
        "x1_value=[]\n",
        "for ind in range(len(pred[100])):\n",
        "  x1_value.append(ind+X_test.shape[1])\n",
        "x1_value\n",
        "plt.plot(x1_value,pred[100], c='blue')\n",
        "\n",
        "\n",
        "x2_value=[]\n",
        "for ind in range(len(predbasic[100])):\n",
        "  x2_value.append(ind+X_test.shape[1])\n",
        "x2_value\n",
        "plt.plot(x2_value,predbasic[100], c='green')\n"
      ],
      "execution_count": null,
      "outputs": [
        {
          "output_type": "error",
          "ename": "IndexError",
          "evalue": "ignored",
          "traceback": [
            "\u001b[0;31m---------------------------------------------------------------------------\u001b[0m",
            "\u001b[0;31mIndexError\u001b[0m                                Traceback (most recent call last)",
            "\u001b[0;32m<ipython-input-38-eeeedc0485b4>\u001b[0m in \u001b[0;36m<module>\u001b[0;34m()\u001b[0m\n\u001b[1;32m     23\u001b[0m \u001b[0;34m\u001b[0m\u001b[0m\n\u001b[1;32m     24\u001b[0m \u001b[0mx2_value\u001b[0m\u001b[0;34m=\u001b[0m\u001b[0;34m[\u001b[0m\u001b[0;34m]\u001b[0m\u001b[0;34m\u001b[0m\u001b[0;34m\u001b[0m\u001b[0m\n\u001b[0;32m---> 25\u001b[0;31m \u001b[0;32mfor\u001b[0m \u001b[0mind\u001b[0m \u001b[0;32min\u001b[0m \u001b[0mrange\u001b[0m\u001b[0;34m(\u001b[0m\u001b[0mlen\u001b[0m\u001b[0;34m(\u001b[0m\u001b[0mpredbasic\u001b[0m\u001b[0;34m[\u001b[0m\u001b[0;36m100\u001b[0m\u001b[0;34m]\u001b[0m\u001b[0;34m)\u001b[0m\u001b[0;34m)\u001b[0m\u001b[0;34m:\u001b[0m\u001b[0;34m\u001b[0m\u001b[0;34m\u001b[0m\u001b[0m\n\u001b[0m\u001b[1;32m     26\u001b[0m   \u001b[0mx2_value\u001b[0m\u001b[0;34m.\u001b[0m\u001b[0mappend\u001b[0m\u001b[0;34m(\u001b[0m\u001b[0mind\u001b[0m\u001b[0;34m+\u001b[0m\u001b[0mX_test\u001b[0m\u001b[0;34m.\u001b[0m\u001b[0mshape\u001b[0m\u001b[0;34m[\u001b[0m\u001b[0;36m1\u001b[0m\u001b[0;34m]\u001b[0m\u001b[0;34m)\u001b[0m\u001b[0;34m\u001b[0m\u001b[0;34m\u001b[0m\u001b[0m\n\u001b[1;32m     27\u001b[0m \u001b[0mx2_value\u001b[0m\u001b[0;34m\u001b[0m\u001b[0;34m\u001b[0m\u001b[0m\n",
            "\u001b[0;31mIndexError\u001b[0m: index 100 is out of bounds for axis 0 with size 15"
          ]
        },
        {
          "output_type": "display_data",
          "data": {
            "image/png": "[encoded data removed]",
            "text/plain": [
              "<Figure size 432x288 with 1 Axes>"
            ]
          },
          "metadata": {
            "tags": [],
            "needs_background": "light"
          }
        }
      ]
    },
    {
      "cell_type": "code",
      "metadata": {
        "colab": {
          "base_uri": "https://localhost:8080/",
          "height": 476
        },
        "id": "SIIKf4bSTHm8",
        "outputId": "d33f1eb1-a2cd-435c-d530-32ad95881df3"
      },
      "source": [
        "x_value=[]\n",
        "for ind in range(X_test.shape[1]+len(pred[200])):\n",
        "  x_value.append(ind)\n",
        "x_value\n",
        "full=X_test[200]\n",
        "full=full.reshape(X_test.shape[1])\n",
        "full=np.append(full,Y_test[200])\n",
        "# full.append(Y_test[0])\n",
        "# full.shape\n",
        "# for ind in Y_test[0]:\n",
        "#   full.append(ind)\n",
        "full\n",
        "\n",
        "\n",
        "\n",
        "plt.plot(x_value,full, c='red')\n",
        "x1_value=[]\n",
        "for ind in range(len(pred[200])):\n",
        "  x1_value.append(ind+X_test.shape[1])\n",
        "x1_value\n",
        "plt.plot(x1_value,pred[7], c='blue')\n",
        "\n",
        "\n",
        "x2_value=[]\n",
        "for ind in range(len(predbasic[200])):\n",
        "  x2_value.append(ind+X_test.shape[1])\n",
        "x2_value\n",
        "plt.plot(x2_value,predbasic[200], c='green')\n"
      ],
      "execution_count": null,
      "outputs": [
        {
          "output_type": "error",
          "ename": "IndexError",
          "evalue": "ignored",
          "traceback": [
            "\u001b[0;31m---------------------------------------------------------------------------\u001b[0m",
            "\u001b[0;31mIndexError\u001b[0m                                Traceback (most recent call last)",
            "\u001b[0;32m<ipython-input-39-9a0a4e9b107b>\u001b[0m in \u001b[0;36m<module>\u001b[0;34m()\u001b[0m\n\u001b[1;32m     23\u001b[0m \u001b[0;34m\u001b[0m\u001b[0m\n\u001b[1;32m     24\u001b[0m \u001b[0mx2_value\u001b[0m\u001b[0;34m=\u001b[0m\u001b[0;34m[\u001b[0m\u001b[0;34m]\u001b[0m\u001b[0;34m\u001b[0m\u001b[0;34m\u001b[0m\u001b[0m\n\u001b[0;32m---> 25\u001b[0;31m \u001b[0;32mfor\u001b[0m \u001b[0mind\u001b[0m \u001b[0;32min\u001b[0m \u001b[0mrange\u001b[0m\u001b[0;34m(\u001b[0m\u001b[0mlen\u001b[0m\u001b[0;34m(\u001b[0m\u001b[0mpredbasic\u001b[0m\u001b[0;34m[\u001b[0m\u001b[0;36m200\u001b[0m\u001b[0;34m]\u001b[0m\u001b[0;34m)\u001b[0m\u001b[0;34m)\u001b[0m\u001b[0;34m:\u001b[0m\u001b[0;34m\u001b[0m\u001b[0;34m\u001b[0m\u001b[0m\n\u001b[0m\u001b[1;32m     26\u001b[0m   \u001b[0mx2_value\u001b[0m\u001b[0;34m.\u001b[0m\u001b[0mappend\u001b[0m\u001b[0;34m(\u001b[0m\u001b[0mind\u001b[0m\u001b[0;34m+\u001b[0m\u001b[0mX_test\u001b[0m\u001b[0;34m.\u001b[0m\u001b[0mshape\u001b[0m\u001b[0;34m[\u001b[0m\u001b[0;36m1\u001b[0m\u001b[0;34m]\u001b[0m\u001b[0;34m)\u001b[0m\u001b[0;34m\u001b[0m\u001b[0;34m\u001b[0m\u001b[0m\n\u001b[1;32m     27\u001b[0m \u001b[0mx2_value\u001b[0m\u001b[0;34m\u001b[0m\u001b[0;34m\u001b[0m\u001b[0m\n",
            "\u001b[0;31mIndexError\u001b[0m: index 200 is out of bounds for axis 0 with size 15"
          ]
        },
        {
          "output_type": "display_data",
          "data": {
            "image/png": "[encoded data removed]",
            "text/plain": [
              "<Figure size 432x288 with 1 Axes>"
            ]
          },
          "metadata": {
            "tags": [],
            "needs_background": "light"
          }
        }
      ]
    },
    {
      "cell_type": "code",
      "metadata": {
        "colab": {
          "base_uri": "https://localhost:8080/",
          "height": 299
        },
        "id": "I5J9yr1cTVnW",
        "outputId": "7cd59bc2-29a5-4c56-d239-64c4719f5024"
      },
      "source": [
        "x_value=[]\n",
        "for ind in range(X_test.shape[1]+len(pred[300])):\n",
        "  x_value.append(ind)\n",
        "x_value\n",
        "full=X_test[300]\n",
        "full=full.reshape(X_test.shape[1])\n",
        "full=np.append(full,Y_test[300])\n",
        "# full.append(Y_test[0])\n",
        "# full.shape\n",
        "# for ind in Y_test[0]:\n",
        "#   full.append(ind)\n",
        "full\n",
        "\n",
        "\n",
        "\n",
        "plt.plot(x_value,full, c='red')\n",
        "x1_value=[]\n",
        "for ind in range(len(pred[300])):\n",
        "  x1_value.append(ind+X_test.shape[1])\n",
        "x1_value\n",
        "plt.plot(x1_value,pred[300], c='blue')\n",
        "\n",
        "\n",
        "x2_value=[]\n",
        "for ind in range(len(predbasic[300])):\n",
        "  x2_value.append(ind+X_test.shape[1])\n",
        "x2_value\n",
        "plt.plot(x2_value,predbasic[300], c='green')\n",
        "pred[300]"
      ],
      "execution_count": null,
      "outputs": [
        {
          "output_type": "execute_result",
          "data": {
            "text/plain": [
              "array([395.31503, 395.24   , 397.97446, 396.89337, 398.12067, 400.05106,\n",
              "       397.2656 ], dtype=float32)"
            ]
          },
          "metadata": {
            "tags": []
          },
          "execution_count": 45
        },
        {
          "output_type": "display_data",
          "data": {
            "image/png": "[encoded data removed]",
            "text/plain": [
              "<Figure size 432x288 with 1 Axes>"
            ]
          },
          "metadata": {
            "tags": [],
            "needs_background": "light"
          }
        }
      ]
    },
    {
      "cell_type": "code",
      "metadata": {
        "colab": {
          "base_uri": "https://localhost:8080/",
          "height": 303
        },
        "id": "gpdav2M6TfA7",
        "outputId": "7bcec75a-708b-4d2a-f754-f443dd5a70ca"
      },
      "source": [
        "x_value=[]\n",
        "for ind in range(X_test.shape[1]+len(pred[400])):\n",
        "  x_value.append(ind)\n",
        "x_value\n",
        "full=X_test[400]\n",
        "full=full.reshape(X_test.shape[1])\n",
        "full=np.append(full,Y_test[400])\n",
        "# full.append(Y_test[0])\n",
        "# full.shape\n",
        "# for ind in Y_test[0]:\n",
        "#   full.append(ind)\n",
        "full\n",
        "\n",
        "\n",
        "\n",
        "plt.plot(x_value,full, c='red')\n",
        "x1_value=[]\n",
        "for ind in range(len(pred[400])):\n",
        "  x1_value.append(ind+X_test.shape[1])\n",
        "x1_value\n",
        "plt.plot(x1_value,pred[400], c='blue')\n",
        "\n",
        "\n",
        "x2_value=[]\n",
        "for ind in range(len(predbasic[400])):\n",
        "  x2_value.append(ind+X_test.shape[1])\n",
        "x2_value\n",
        "plt.plot(x2_value,predbasic[400], c='green')\n",
        "pred[400]\n"
      ],
      "execution_count": null,
      "outputs": [
        {
          "output_type": "execute_result",
          "data": {
            "text/plain": [
              "array([395.32013, 395.2451 , 397.97952, 396.89844, 398.12582, 400.05624,\n",
              "       397.27072], dtype=float32)"
            ]
          },
          "metadata": {
            "tags": []
          },
          "execution_count": 48
        },
        {
          "output_type": "display_data",
          "data": {
            "image/png": "[encoded data removed]",
            "text/plain": [
              "<Figure size 432x288 with 1 Axes>"
            ]
          },
          "metadata": {
            "tags": [],
            "needs_background": "light"
          }
        }
      ]
    },
    {
      "cell_type": "code",
      "metadata": {
        "id": "D_MNBdkoT53w"
      },
      "source": [
        ""
      ],
      "execution_count": null,
      "outputs": []
    }
  ]
}